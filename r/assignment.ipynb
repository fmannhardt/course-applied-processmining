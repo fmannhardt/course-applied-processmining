{
 "cells": [
  {
   "cell_type": "markdown",
   "metadata": {
    "tags": []
   },
   "source": [
    "# Applied Process Mining Module\n",
    "\n",
    "This notebook is part of an Applied Process Mining module. The collection of notebooks is a *living document* and subject to change. \n",
    "\n",
    "# Assignment - BPI Challenge 2020"
   ]
  },
  {
   "cell_type": "markdown",
   "metadata": {},
   "source": [
    "## Setup\n",
    "\n",
    "<img src=\"http://bupar.net/images/logo_text.PNG\" alt=\"bupaR\" style=\"width: 200px;\"/>\n",
    "\n",
    "In this notebook, we are going to need the `tidyverse` and the `bupaR` packages."
   ]
  },
  {
   "cell_type": "code",
   "execution_count": null,
   "metadata": {
    "vscode": {
     "languageId": "r"
    }
   },
   "outputs": [],
   "source": [
    "## Perform the commented out commands below in a separate R session\n",
    "# install.packages(\"tidyverse\")\n",
    "# install.packages(\"bupaR\")"
   ]
  },
  {
   "cell_type": "code",
   "execution_count": null,
   "metadata": {
    "vscode": {
     "languageId": "r"
    }
   },
   "outputs": [],
   "source": [
    "# for larger and readable plots\n",
    "options(jupyter.plot_scale=1.25)"
   ]
  },
  {
   "cell_type": "code",
   "execution_count": null,
   "metadata": {
    "vscode": {
     "languageId": "r"
    }
   },
   "outputs": [],
   "source": [
    "# the initial execution of these may give you warnings that you can safely ignore\n",
    "library(tidyverse)\n",
    "\n",
    "library(bupaR)\n",
    "library(processanimateR)"
   ]
  },
  {
   "cell_type": "markdown",
   "metadata": {},
   "source": [
    "## Assignment"
   ]
  },
  {
   "cell_type": "markdown",
   "metadata": {},
   "source": [
    "In the first hands-on session, you are going to explore a real-life dataset and apply what was presented in the lecture about event logs and basic process mining visualizations. The objective is to explore your dataset and as an event log and with the learned process mining visualizations in mind.\n",
    "\n",
    "* Analyse basic properties of the the process (business process or other process) that has generated it. \n",
    "    * What are possible case notions / what is the or what are the case identifiers?\n",
    "    * What are the activities? Are all activities on the same abstraction level? Can activities be derived from other data?\n",
    "    * Can activities or actions be derived from other (non-activity) data?\n",
    "* Discovery a map of the process (or a sub-process) behind it.\n",
    "    * Are there multiple processes that can be discovered?\n",
    "    * What is the effect of taking a subset of the data? "
   ]
  },
  {
   "cell_type": "markdown",
   "metadata": {},
   "source": [
    "## Dataset"
   ]
  },
  {
   "cell_type": "markdown",
   "metadata": {},
   "source": [
    "The proposed real-life dataset to investigate is the *BPI Challenge 2020* dataset. The dataset is captured from the travel reimbursment process of Eindhoven University of Technolog and has been collected for usage in the BPI challenge. The BPI challenge is a yearly event in the Process Mining research community in which an event log is released along with some business questions that shall be addressed with process analytics techniques.\n",
    "\n",
    "Here is more informaation on the dataset and downloads links to the data files:\n",
    "\n",
    "* [Overview of the Case](https://icpmconference.org/2020/bpi-challenge/)\n",
    "* [Dataset](https://doi.org/10.4121/uuid:52fb97d4-4588-43c9-9d04-3604d4613b51)\n",
    "\n",
    "On the BPI Challenge 2020 website above, there are several reports (including the winners of the challenge) that describe and analyze the dataset in detail. However, we suggest that you first try to explore the dataset without reading the reports. The business questions and a description of the process flow can be also found at the BPI Challenge 2020 website. We repeat it here for convenience:\n",
    "\n",
    "### Process Flow\n",
    "\n",
    "The various declaration documents (domestic and international declarations, pre-paid travel costs and requests for payment) all follow a similar process flow. After submission by the employee, the request is sent for approval to the travel administration. If approved, the request is then forwarded to the budget owner and after that to the supervisor. If the budget owner and supervisor are the same person, then only one of the these steps it taken. In some cases, the director also needs to approve the request.\n",
    "\n",
    "In all cases, a rejection leads to one of two outcomes. Either the employee resubmits the request, or the employee also rejects the request.\n",
    "\n",
    "If the approval flow has a positive result, the payment is requested and made.\n",
    "\n",
    "The travel permits follow a slightly different flow as there is no payment involved. Instead, after all approval steps a trip can take place, indicated with an estimated start and end date. These dates are not exact travel dates, but rather estimated by the employee when the permit request is submitted. The actual travel dates are not recorded in the data, but should be close to the given dates in most cases.\n",
    "\n",
    "After the end of a trip, an employee receives several reminders to submit a travel declaration.\n",
    "\n",
    "After a travel permit is approved, but before the trip starts, employees can ask for a reimbursement of pre-paid travel costs. Several requests can be submitted independently of each other. After the trip ends, an international declaration can be submitted, although sometimes multiple declarations are seen for specific cases.\n",
    "\n",
    "It’s important to realize that the process described above is the process for 2018. For 2017, there are some differences as this was a pilot year and the process changed slightly on several occasions.\n",
    "\n",
    "### Business Questions\n",
    "\n",
    "The following questions are of interest:\n",
    "\n",
    "* What is the throughput of a travel declaration from submission (or closing) to paying?\n",
    "* Is there are difference in throughput between national and international trips?\n",
    "* Are there differences between clusters of declarations, for example between cost centers/departments/projects etc.?\n",
    "* What is the throughput in each of the process steps, i.e. the submission, judgement by various responsible roles and payment?\n",
    "* Where are the bottlenecks in the process of a travel declaration?\n",
    "* Where are the bottlenecks in the process of a travel permit (note that there can be mulitple requests for payment and declarations per permit)?\n",
    "* How many travel declarations get rejected in the various processing steps and how many are never approved?\n",
    "\n",
    "Then there are more detailed questions\n",
    "\n",
    "* How many travel declarations are booked on projects?\n",
    "* How many corrections have been made for declarations?\n",
    "* Are there any double payments?\n",
    "* Are there declarations that were not preceded properly by an approved travel permit? Or are there even declarations for which no permit exists?\n",
    "* How many travel declarations are submitted by the traveler and how many by a mandated person?\n",
    "* How many travel declarations are first rejected because they are submitted more than 2 months after the end of a trip and are then re-submitted?\n",
    "* Is this different between departments?\n",
    "* How many travel declarations are not approved by budget holders in time (7 days) and are then automatically rerouted to supervisors?\n",
    "* Next to travel declarations, there are also requests for payments. These are specific for non-TU/e employees. Are there any TU/e employees that submitted a request for payment instead of a travel declaration?\n",
    "\n",
    "Similar to the task at the BPI challenge, we are aware that not all questions can be answered on this dataset and we encourage you to come up with new and interesting insights."
   ]
  },
  {
   "cell_type": "markdown",
   "metadata": {},
   "source": [
    "## Data Loading"
   ]
  },
  {
   "cell_type": "markdown",
   "metadata": {},
   "source": [
    "Several datasets have been released as part of the BPI challenge. The data is split into travel permits and several request types, namely domestic declarations, international declarations, prepaid travel costs and requests for payment, where the latter refers to expenses which should not be related to trips (think of representation costs, hardware purchased for work, etc.). At Eindhoven University of Technology (TU/e), this is no different. The TU/e staff travels a lot to conferences or to other universities for project meetings and/or to meet up with colleagues in the field. And, as many companies, they have procedures in place for arranging the travels as well as for the reimbursement of costs.\n",
    "\n",
    "To make your life a bit easier, we have created the initial code to load the dataset that is already stored in the [XES format](http://xes-standard.org/) for event logs."
   ]
  },
  {
   "cell_type": "code",
   "execution_count": null,
   "metadata": {
    "vscode": {
     "languageId": "r"
    }
   },
   "outputs": [],
   "source": [
    "read_xes_gzip <- function(xes_url) {\n",
    "    temp <- tempfile(fileext = \".xes.gz\")\n",
    "    download.file(xes_url, temp, mode = \"wb\")\n",
    "    temp_xes <- tempfile()\n",
    "    R.utils::gunzip(temp, temp_xes)\n",
    "    xes <- xesreadR::read_xes(temp_xes)\n",
    "    unlink(temp)\n",
    "    unlink(temp_xes)\n",
    "    return(xes)\n",
    "}"
   ]
  },
  {
   "cell_type": "code",
   "execution_count": null,
   "metadata": {
    "vscode": {
     "languageId": "r"
    }
   },
   "outputs": [],
   "source": [
    "# some warnings are expected here (bupaR needs an updating)\n",
    "rfp_data <- read_xes_gzip(\"https://data.4tu.nl/ndownloader/files/24061154\")\n",
    "ptc_data <- read_xes_gzip(\"https://data.4tu.nl/ndownloader/files/24043835\")\n",
    "int_decl_data <- read_xes_gzip(\"https://data.4tu.nl/ndownloader/files/24023492\")\n",
    "dom_decl_data <- read_xes_gzip(\"https://data.4tu.nl/ndownloader/files/24031811\")"
   ]
  },
  {
   "cell_type": "code",
   "execution_count": null,
   "metadata": {
    "vscode": {
     "languageId": "r"
    }
   },
   "outputs": [],
   "source": [
    "rfp_data %>% summary()"
   ]
  },
  {
   "cell_type": "code",
   "execution_count": null,
   "metadata": {
    "vscode": {
     "languageId": "r"
    }
   },
   "outputs": [],
   "source": [
    "ptc_data %>% summary()"
   ]
  },
  {
   "cell_type": "code",
   "execution_count": null,
   "metadata": {
    "vscode": {
     "languageId": "r"
    }
   },
   "outputs": [],
   "source": [
    "int_decl_data %>% summary()"
   ]
  },
  {
   "cell_type": "code",
   "execution_count": null,
   "metadata": {
    "vscode": {
     "languageId": "r"
    }
   },
   "outputs": [],
   "source": [
    "dom_decl_data %>% summary()"
   ]
  }
 ],
 "metadata": {
  "kernelspec": {
   "display_name": "R",
   "language": "R",
   "name": "ir"
  },
  "language_info": {
   "codemirror_mode": "r",
   "file_extension": ".r",
   "mimetype": "text/x-r-source",
   "name": "R",
   "pygments_lexer": "r",
   "version": "4.0.5"
  }
 },
 "nbformat": 4,
 "nbformat_minor": 4
}
