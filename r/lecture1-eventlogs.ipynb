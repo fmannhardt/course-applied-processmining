{
 "cells": [
  {
   "cell_type": "markdown",
   "metadata": {
    "tags": []
   },
   "source": [
    "This notebook is part of an Applied Process Mining module. The collection of notebooks is a *living document* and subject to change. \n",
    "\n",
    "# Lecture 1 - 'Event Logs and Process Visualization' (R / bupaR)"
   ]
  },
  {
   "cell_type": "markdown",
   "metadata": {},
   "source": [
    "## Setup\n",
    "\n",
    "<img src=\"http://bupar.net/images/logo_text.PNG\" alt=\"bupaR\" style=\"width: 200px;\"/>\n",
    "\n",
    "In this notebook, we are going to need the `tidyverse` and the `bupaR` packages. If you run this notebook in the recommended Docker environment then there is no need to install any packages. Otherwise, you may need to install the requirements that are commented out below:"
   ]
  },
  {
   "cell_type": "code",
   "execution_count": 1,
   "metadata": {},
   "outputs": [],
   "source": [
    "## Perform the commented out commands below in a separate R session\n",
    "# install.packages(\"tidyverse\")\n",
    "# install.packages(\"bupaR\")\n",
    "# install.packages(\"processmapR\")\n",
    "# install.packages(\"processanimateR\")"
   ]
  },
  {
   "cell_type": "markdown",
   "metadata": {},
   "source": [
    "We are setting up some convenicence options for the notebook and import dependencies:"
   ]
  },
  {
   "cell_type": "code",
   "execution_count": 1,
   "metadata": {},
   "outputs": [],
   "source": [
    "# for larger and readable plots\n",
    "options(jupyter.plot_scale=1.25)"
   ]
  },
  {
   "cell_type": "code",
   "execution_count": 2,
   "metadata": {},
   "outputs": [],
   "source": [
    "# the initial execution of these may give you warnings that we can safely ignore\n",
    "suppressPackageStartupMessages (library(tidyverse)) \n",
    "suppressPackageStartupMessages (library(bupaR))\n",
    "library(processmapR)\n",
    "library(processanimateR)"
   ]
  },
  {
   "cell_type": "markdown",
   "metadata": {},
   "source": [
    "## Event Logs\n",
    "\n",
    "This part introduces event logs and their unique properties that provide the basis for any Process Mining method. Together with `bupaR` several event logs are distributed that can be loaded without further processing. \n",
    "In this lecture we are going to make use of the following datasets:\n",
    "\n",
    "* Patients, a synthetically generated example event log in a hospital setting.\n",
    "* Sepsis, a real-life event log taken from a Dutch hospital. The event log is publicly available here: https://doi.org/10.4121/uuid:915d2bfb-7e84-49ad-a286-dc35f063a460 and has been used in many Process Mining related publications."
   ]
  },
  {
   "cell_type": "markdown",
   "metadata": {},
   "source": [
    "### Exploring Event Data\n",
    "\n",
    "Let us first explore the event data without any prior knowledge about event log structure or properties. We convert the `patients` event log below to a standard `tibble` (https://tibble.tidyverse.org/) and inspect the first rows."
   ]
  },
  {
   "cell_type": "code",
   "execution_count": 3,
   "metadata": {},
   "outputs": [
    {
     "data": {
      "text/html": [
       "<table class=\"dataframe\">\n",
       "<caption>A tibble: 6 × 7</caption>\n",
       "<thead>\n",
       "\t<tr><th scope=col>handling</th><th scope=col>patient</th><th scope=col>employee</th><th scope=col>handling_id</th><th scope=col>registration_type</th><th scope=col>time</th><th scope=col>.order</th></tr>\n",
       "\t<tr><th scope=col>&lt;fct&gt;</th><th scope=col>&lt;chr&gt;</th><th scope=col>&lt;fct&gt;</th><th scope=col>&lt;chr&gt;</th><th scope=col>&lt;fct&gt;</th><th scope=col>&lt;dttm&gt;</th><th scope=col>&lt;int&gt;</th></tr>\n",
       "</thead>\n",
       "<tbody>\n",
       "\t<tr><td>Registration</td><td>1</td><td>r1</td><td>1</td><td>start</td><td>2017-01-02 11:41:53</td><td>1</td></tr>\n",
       "\t<tr><td>Registration</td><td>2</td><td>r1</td><td>2</td><td>start</td><td>2017-01-02 11:41:53</td><td>2</td></tr>\n",
       "\t<tr><td>Registration</td><td>3</td><td>r1</td><td>3</td><td>start</td><td>2017-01-04 01:34:05</td><td>3</td></tr>\n",
       "\t<tr><td>Registration</td><td>4</td><td>r1</td><td>4</td><td>start</td><td>2017-01-04 01:34:04</td><td>4</td></tr>\n",
       "\t<tr><td>Registration</td><td>5</td><td>r1</td><td>5</td><td>start</td><td>2017-01-04 16:07:47</td><td>5</td></tr>\n",
       "\t<tr><td>Registration</td><td>6</td><td>r1</td><td>6</td><td>start</td><td>2017-01-04 16:07:47</td><td>6</td></tr>\n",
       "</tbody>\n",
       "</table>\n"
      ],
      "text/latex": [
       "A tibble: 6 × 7\n",
       "\\begin{tabular}{lllllll}\n",
       " handling & patient & employee & handling\\_id & registration\\_type & time & .order\\\\\n",
       " <fct> & <chr> & <fct> & <chr> & <fct> & <dttm> & <int>\\\\\n",
       "\\hline\n",
       "\t Registration & 1 & r1 & 1 & start & 2017-01-02 11:41:53 & 1\\\\\n",
       "\t Registration & 2 & r1 & 2 & start & 2017-01-02 11:41:53 & 2\\\\\n",
       "\t Registration & 3 & r1 & 3 & start & 2017-01-04 01:34:05 & 3\\\\\n",
       "\t Registration & 4 & r1 & 4 & start & 2017-01-04 01:34:04 & 4\\\\\n",
       "\t Registration & 5 & r1 & 5 & start & 2017-01-04 16:07:47 & 5\\\\\n",
       "\t Registration & 6 & r1 & 6 & start & 2017-01-04 16:07:47 & 6\\\\\n",
       "\\end{tabular}\n"
      ],
      "text/markdown": [
       "\n",
       "A tibble: 6 × 7\n",
       "\n",
       "| handling &lt;fct&gt; | patient &lt;chr&gt; | employee &lt;fct&gt; | handling_id &lt;chr&gt; | registration_type &lt;fct&gt; | time &lt;dttm&gt; | .order &lt;int&gt; |\n",
       "|---|---|---|---|---|---|---|\n",
       "| Registration | 1 | r1 | 1 | start | 2017-01-02 11:41:53 | 1 |\n",
       "| Registration | 2 | r1 | 2 | start | 2017-01-02 11:41:53 | 2 |\n",
       "| Registration | 3 | r1 | 3 | start | 2017-01-04 01:34:05 | 3 |\n",
       "| Registration | 4 | r1 | 4 | start | 2017-01-04 01:34:04 | 4 |\n",
       "| Registration | 5 | r1 | 5 | start | 2017-01-04 16:07:47 | 5 |\n",
       "| Registration | 6 | r1 | 6 | start | 2017-01-04 16:07:47 | 6 |\n",
       "\n"
      ],
      "text/plain": [
       "  handling     patient employee handling_id registration_type\n",
       "1 Registration 1       r1       1           start            \n",
       "2 Registration 2       r1       2           start            \n",
       "3 Registration 3       r1       3           start            \n",
       "4 Registration 4       r1       4           start            \n",
       "5 Registration 5       r1       5           start            \n",
       "6 Registration 6       r1       6           start            \n",
       "  time                .order\n",
       "1 2017-01-02 11:41:53 1     \n",
       "2 2017-01-02 11:41:53 2     \n",
       "3 2017-01-04 01:34:05 3     \n",
       "4 2017-01-04 01:34:04 4     \n",
       "5 2017-01-04 16:07:47 5     \n",
       "6 2017-01-04 16:07:47 6     "
      ]
     },
     "metadata": {},
     "output_type": "display_data"
    }
   ],
   "source": [
    "patients %>%\n",
    "    as_tibble() %>%\n",
    "    head()"
   ]
  },
  {
   "cell_type": "markdown",
   "metadata": {},
   "source": [
    "The most important ingredient of an event log is the timestamps column `time`. This allows us to establish a sequence of events."
   ]
  },
  {
   "cell_type": "code",
   "execution_count": 6,
   "metadata": {},
   "outputs": [
    {
     "data": {
      "image/png": "[encoded data removed]",
      "text/plain": [
       "plot without title"
      ]
     },
     "metadata": {
      "image/png": {
       "height": 672,
       "width": 672
      }
     },
     "output_type": "display_data"
    }
   ],
   "source": [
    "patients %>% \n",
    "  filter(time < '2017-01-7') %>% \n",
    "  ggplot(aes(time, \"Event\")) + \n",
    "  geom_point() + \n",
    "  theme_bw()"
   ]
  },
  {
   "cell_type": "markdown",
   "metadata": {},
   "source": [
    "We also need to have information on the kind of actions or activities performed:"
   ]
  },
  {
   "cell_type": "code",
   "execution_count": 7,
   "metadata": {},
   "outputs": [
    {
     "data": {
      "text/html": [
       "<table class=\"dataframe\">\n",
       "<caption>A tibble: 7 × 1</caption>\n",
       "<thead>\n",
       "\t<tr><th scope=col>handling</th></tr>\n",
       "\t<tr><th scope=col>&lt;fct&gt;</th></tr>\n",
       "</thead>\n",
       "<tbody>\n",
       "\t<tr><td>Registration         </td></tr>\n",
       "\t<tr><td>Triage and Assessment</td></tr>\n",
       "\t<tr><td>Blood test           </td></tr>\n",
       "\t<tr><td>MRI SCAN             </td></tr>\n",
       "\t<tr><td>X-Ray                </td></tr>\n",
       "\t<tr><td>Discuss Results      </td></tr>\n",
       "\t<tr><td>Check-out            </td></tr>\n",
       "</tbody>\n",
       "</table>\n"
      ],
      "text/latex": [
       "A tibble: 7 × 1\n",
       "\\begin{tabular}{l}\n",
       " handling\\\\\n",
       " <fct>\\\\\n",
       "\\hline\n",
       "\t Registration         \\\\\n",
       "\t Triage and Assessment\\\\\n",
       "\t Blood test           \\\\\n",
       "\t MRI SCAN             \\\\\n",
       "\t X-Ray                \\\\\n",
       "\t Discuss Results      \\\\\n",
       "\t Check-out            \\\\\n",
       "\\end{tabular}\n"
      ],
      "text/markdown": [
       "\n",
       "A tibble: 7 × 1\n",
       "\n",
       "| handling &lt;fct&gt; |\n",
       "|---|\n",
       "| Registration          |\n",
       "| Triage and Assessment |\n",
       "| Blood test            |\n",
       "| MRI SCAN              |\n",
       "| X-Ray                 |\n",
       "| Discuss Results       |\n",
       "| Check-out             |\n",
       "\n"
      ],
      "text/plain": [
       "  handling             \n",
       "1 Registration         \n",
       "2 Triage and Assessment\n",
       "3 Blood test           \n",
       "4 MRI SCAN             \n",
       "5 X-Ray                \n",
       "6 Discuss Results      \n",
       "7 Check-out            "
      ]
     },
     "metadata": {},
     "output_type": "display_data"
    }
   ],
   "source": [
    "patients %>%\n",
    "    as_tibble() %>% \n",
    "    distinct(handling)"
   ]
  },
  {
   "cell_type": "markdown",
   "metadata": {},
   "source": [
    "Let us have a look at what other data is available:"
   ]
  },
  {
   "cell_type": "code",
   "execution_count": 8,
   "metadata": {},
   "outputs": [
    {
     "data": {
      "text/html": [
       "<table class=\"dataframe\">\n",
       "<caption>A tibble: 6 × 1</caption>\n",
       "<thead>\n",
       "\t<tr><th scope=col>patient</th></tr>\n",
       "\t<tr><th scope=col>&lt;chr&gt;</th></tr>\n",
       "</thead>\n",
       "<tbody>\n",
       "\t<tr><td>1</td></tr>\n",
       "\t<tr><td>2</td></tr>\n",
       "\t<tr><td>3</td></tr>\n",
       "\t<tr><td>4</td></tr>\n",
       "\t<tr><td>5</td></tr>\n",
       "\t<tr><td>6</td></tr>\n",
       "</tbody>\n",
       "</table>\n"
      ],
      "text/latex": [
       "A tibble: 6 × 1\n",
       "\\begin{tabular}{l}\n",
       " patient\\\\\n",
       " <chr>\\\\\n",
       "\\hline\n",
       "\t 1\\\\\n",
       "\t 2\\\\\n",
       "\t 3\\\\\n",
       "\t 4\\\\\n",
       "\t 5\\\\\n",
       "\t 6\\\\\n",
       "\\end{tabular}\n"
      ],
      "text/markdown": [
       "\n",
       "A tibble: 6 × 1\n",
       "\n",
       "| patient &lt;chr&gt; |\n",
       "|---|\n",
       "| 1 |\n",
       "| 2 |\n",
       "| 3 |\n",
       "| 4 |\n",
       "| 5 |\n",
       "| 6 |\n",
       "\n"
      ],
      "text/plain": [
       "  patient\n",
       "1 1      \n",
       "2 2      \n",
       "3 3      \n",
       "4 4      \n",
       "5 5      \n",
       "6 6      "
      ]
     },
     "metadata": {},
     "output_type": "display_data"
    }
   ],
   "source": [
    "patients %>%\n",
    "    as_tibble() %>% \n",
    "    distinct(patient)  %>% \n",
    "    head()"
   ]
  },
  {
   "cell_type": "markdown",
   "metadata": {},
   "source": [
    "Maybe the patient identifier could be a good candidate for defining a process case. When counting the events that occurred per individual patient it seems that there is a similar number of events for each patient, which is generally a good indicator for a process case identifier:"
   ]
  },
  {
   "cell_type": "code",
   "execution_count": 10,
   "metadata": {},
   "outputs": [
    {
     "data": {
      "text/html": [
       "<table class=\"dataframe\">\n",
       "<caption>A tibble: 6 × 2</caption>\n",
       "<thead>\n",
       "\t<tr><th scope=col>patient</th><th scope=col>n</th></tr>\n",
       "\t<tr><th scope=col>&lt;chr&gt;</th><th scope=col>&lt;int&gt;</th></tr>\n",
       "</thead>\n",
       "<tbody>\n",
       "\t<tr><td>1  </td><td>12</td></tr>\n",
       "\t<tr><td>10 </td><td>10</td></tr>\n",
       "\t<tr><td>100</td><td>10</td></tr>\n",
       "\t<tr><td>101</td><td>10</td></tr>\n",
       "\t<tr><td>102</td><td>10</td></tr>\n",
       "\t<tr><td>103</td><td>12</td></tr>\n",
       "</tbody>\n",
       "</table>\n"
      ],
      "text/latex": [
       "A tibble: 6 × 2\n",
       "\\begin{tabular}{ll}\n",
       " patient & n\\\\\n",
       " <chr> & <int>\\\\\n",
       "\\hline\n",
       "\t 1   & 12\\\\\n",
       "\t 10  & 10\\\\\n",
       "\t 100 & 10\\\\\n",
       "\t 101 & 10\\\\\n",
       "\t 102 & 10\\\\\n",
       "\t 103 & 12\\\\\n",
       "\\end{tabular}\n"
      ],
      "text/markdown": [
       "\n",
       "A tibble: 6 × 2\n",
       "\n",
       "| patient &lt;chr&gt; | n &lt;int&gt; |\n",
       "|---|---|\n",
       "| 1   | 12 |\n",
       "| 10  | 10 |\n",
       "| 100 | 10 |\n",
       "| 101 | 10 |\n",
       "| 102 | 10 |\n",
       "| 103 | 12 |\n",
       "\n"
      ],
      "text/plain": [
       "  patient n \n",
       "1 1       12\n",
       "2 10      10\n",
       "3 100     10\n",
       "4 101     10\n",
       "5 102     10\n",
       "6 103     12"
      ]
     },
     "metadata": {},
     "output_type": "display_data"
    }
   ],
   "source": [
    "patients %>%\n",
    "    as_tibble() s%>% \n",
    "    count(patient) %>% \n",
    "    head()"
   ]
  },
  {
   "cell_type": "markdown",
   "metadata": {},
   "source": []
  },
  {
   "cell_type": "code",
   "execution_count": 11,
   "metadata": {},
   "outputs": [
    {
     "data": {
      "image/png": "[encoded data removed]",
      "text/plain": [
       "plot without title"
      ]
     },
     "metadata": {
      "image/png": {
       "height": 672,
       "width": 672
      }
     },
     "output_type": "display_data"
    }
   ],
   "source": [
    "patients %>% \n",
    "  filter(time < '2017-01-31') %>% \n",
    "  ggplot(aes(time, patient, color = handling)) + \n",
    "  geom_point() + \n",
    "  theme_bw()"
   ]
  },
  {
   "cell_type": "code",
   "execution_count": null,
   "metadata": {},
   "outputs": [],
   "source": [
    "patients %>% \n",
    "  as_tibble() %>% \n",
    "  arrange(patient, time) %>% \n",
    "  head()"
   ]
  },
  {
   "cell_type": "markdown",
   "metadata": {},
   "source": [
    "### Further resources"
   ]
  },
  {
   "cell_type": "markdown",
   "metadata": {},
   "source": [
    "* [XES Standard](http://xes-standard.org/)\n",
    "* [Creating event logs from CSV files in bupaR](http://bupar.net/creating_eventlogs.html)\n",
    "* [Changing the case, activity notiions in bupaR](http://bupar.net/mapping.html)"
   ]
  },
  {
   "cell_type": "markdown",
   "metadata": {},
   "source": [
    "### Reflection Questions\n",
    "\n",
    "* What could be the reason a column `.order` is included in this dataset?\n",
    "* How could the column `employee` be used?\n",
    "* What is the use of the column `handling_id` and in which situation is it required?"
   ]
  },
  {
   "cell_type": "markdown",
   "metadata": {},
   "source": [
    "## Basic Process Visualization"
   ]
  },
  {
   "cell_type": "markdown",
   "metadata": {},
   "source": [
    "### Set of Traces"
   ]
  },
  {
   "cell_type": "code",
   "execution_count": null,
   "metadata": {},
   "outputs": [],
   "source": [
    "patients %>% \n",
    "  trace_explorer(coverage = 1.0, .abbreviate = T) # abbreviated here due to poor Jupyter notebook output scaling"
   ]
  },
  {
   "cell_type": "markdown",
   "metadata": {},
   "source": [
    "### Dotted Chart"
   ]
  },
  {
   "cell_type": "code",
   "execution_count": null,
   "metadata": {},
   "outputs": [],
   "source": [
    "patients %>%\n",
    "    filter(time < '2017-01-31') %>% \n",
    "    dotted_chart(add_end_events = T)"
   ]
  },
  {
   "cell_type": "code",
   "execution_count": null,
   "metadata": {},
   "outputs": [],
   "source": [
    "patients %>%    \n",
    "    dotted_chart(\"relative\", add_end_events = T)"
   ]
  },
  {
   "cell_type": "markdown",
   "metadata": {},
   "source": [
    "We can also use `plotly` to get an interactive visualization:"
   ]
  },
  {
   "cell_type": "code",
   "execution_count": null,
   "metadata": {},
   "outputs": [],
   "source": [
    "patients %>%    \n",
    "    plotly_dotted_chart(\"relative\", add_end_events = T)"
   ]
  },
  {
   "cell_type": "code",
   "execution_count": null,
   "metadata": {},
   "outputs": [],
   "source": [
    "sepsis %>% \n",
    "    dotted_chart(\"relative_day\",\n",
    "                 sort = \"start_day\", \n",
    "                 units = \"hours\")"
   ]
  },
  {
   "cell_type": "markdown",
   "metadata": {},
   "source": [
    "Check out other process visualization options using bupaR:\n",
    "\n",
    "* [Further Dotted Charts](http://bupar.net/dotted_chart.html)\n",
    "* [Exploring Time, Resources, Structuredness](http://bupar.net/exploring.html)"
   ]
  },
  {
   "cell_type": "markdown",
   "metadata": {},
   "source": [
    "## Process Map Visualization"
   ]
  },
  {
   "cell_type": "code",
   "execution_count": null,
   "metadata": {},
   "outputs": [],
   "source": [
    "patients %>% \n",
    "    precedence_matrix() %>% \n",
    "    plot()"
   ]
  },
  {
   "cell_type": "code",
   "execution_count": null,
   "metadata": {},
   "outputs": [],
   "source": [
    "patients %>% \n",
    "    process_map()"
   ]
  },
  {
   "cell_type": "code",
   "execution_count": null,
   "metadata": {},
   "outputs": [],
   "source": [
    "patients %>% \n",
    "    process_map(type = performance(units = \"hours\"))"
   ]
  },
  {
   "cell_type": "markdown",
   "metadata": {},
   "source": [
    "#### Challenge 1\n",
    "Use some other attribute to be shown in the `patients` dataset."
   ]
  },
  {
   "cell_type": "code",
   "execution_count": null,
   "metadata": {},
   "outputs": [],
   "source": [
    "#patients %>% \n",
    "#    process_map(type = custom(...))"
   ]
  },
  {
   "cell_type": "code",
   "execution_count": null,
   "metadata": {},
   "outputs": [],
   "source": [
    "patients %>% \n",
    "    animate_process(mode = \"relative\")"
   ]
  },
  {
   "cell_type": "markdown",
   "metadata": {},
   "source": [
    "#### Challenge 2\n",
    "Reproduce the example shown on the lecture slides by animating some other attribute from the `traffic_fines` dataset."
   ]
  },
  {
   "cell_type": "code",
   "execution_count": null,
   "metadata": {},
   "outputs": [],
   "source": [
    "traffic_fines %>% \n",
    "  head()"
   ]
  },
  {
   "cell_type": "code",
   "execution_count": null,
   "metadata": {},
   "outputs": [],
   "source": [
    "traffic_fines %>% \n",
    "    # WARNING: don't animate the full log in Jupyter (at least not on Firefox - it will really slow down your browser the library does not scale well)\n",
    "    bupaR::sample_n(1000) %>%\n",
    "    edeaR::filter_trace_frequency(percentage=0.95) %>%\n",
    "    animate_process(mode = \"relative\")"
   ]
  },
  {
   "cell_type": "code",
   "execution_count": null,
   "metadata": {},
   "outputs": [],
   "source": [
    "# traffic_fines %>% "
   ]
  },
  {
   "cell_type": "markdown",
   "metadata": {},
   "source": [
    "## Real-life Processes"
   ]
  },
  {
   "cell_type": "code",
   "execution_count": null,
   "metadata": {},
   "outputs": [],
   "source": [
    "sepsis %>% \n",
    "  precedence_matrix() %>% \n",
    "  plot()"
   ]
  },
  {
   "cell_type": "markdown",
   "metadata": {},
   "source": [
    "# Exercises - 1st Hands-on Session\n",
    "\n",
    "In the first hands-on session, you are going to explore a real-life dataset (see the Assignment notebook) and apply what was presented in the lecture about event logs and basic process mining visualizations. The objective is to explore your dataset and as an event log and with the learned process mining visualizations in mind.\n",
    "\n",
    "* Analyse basic properties of the the process (business process or other process) that has generated it. \n",
    "    * What are possible case notions / what is the or what are the case identifiers?\n",
    "    * What are the activities? Are all activities on the same abstraction level? Can activities be derived from other data?\n",
    "    * Can activities or actions be derived from other (non-activity) data?\n",
    "* Discovery a map of the process (or a sub-process) behind it.\n",
    "    * Are there multiple processes that can be discovered?\n",
    "    * What is the effect of taking a subset of the data?\n",
    "\n",
    "*Hint*: You may use/copy the code from this notebook to have a starting point. "
   ]
  }
 ],
 "metadata": {
  "kernelspec": {
   "display_name": "R",
   "language": "R",
   "name": "ir"
  },
  "language_info": {
   "codemirror_mode": "r",
   "file_extension": ".r",
   "mimetype": "text/x-r-source",
   "name": "R",
   "pygments_lexer": "r",
   "version": "4.2.2"
  },
  "vscode": {
   "interpreter": {
    "hash": "28aff1567d8aae5536826c1be921f2ff2e204808293d43dc67bdcb73bd29110e"
   }
  }
 },
 "nbformat": 4,
 "nbformat_minor": 4
}
