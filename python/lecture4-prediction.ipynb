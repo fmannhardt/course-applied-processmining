{
 "cells": [
  {
   "cell_type": "markdown",
   "metadata": {},
   "source": [
    "# Applied Process Mining Module\n",
    "\n",
    "This notebook is part of an Applied Process Mining module. The collection of notebooks is a *living document* and subject to change. \n",
    "\n",
    "# Lecture 4 - 'Predictive Process Mining' (Python / PM4Py)"
   ]
  },
  {
   "cell_type": "markdown",
   "metadata": {},
   "source": [
    "## Setup\n",
    "\n",
    "<img src=\"https://pm4py.fit.fraunhofer.de/static/assets/images/pm4py-site-logo-padded.png\" alt=\"PM4Py\" style=\"width: 200px;\"/>\n",
    "\n",
    "In this notebook, we are using the [PM4Py library](https://pm4py.fit.fraunhofer.de/) in combination with several standard Python data science libraries:\n",
    "\n",
    "* [pandas](https://pandas.pydata.org/)\n",
    "* [PyTorch](https://pytorch.org/)"
   ]
  },
  {
   "cell_type": "code",
   "execution_count": 55,
   "metadata": {},
   "outputs": [],
   "source": [
    "## Perform the commented out commands to install the dependencies\n",
    "# %pip install pandas\n",
    "# %pip install matplotlib\n",
    "# %pip install pm4py\n",
    "# %pip install torch\n",
    "# %pip install tqdm"
   ]
  },
  {
   "cell_type": "code",
   "execution_count": 56,
   "metadata": {},
   "outputs": [],
   "source": [
    "import numpy as np\n",
    "import pandas as pd\n",
    "import pm4py\n",
    "import os\n",
    "import torch\n",
    "import torch.nn as nn\n",
    "from tqdm.autonotebook import tqdm"
   ]
  },
  {
   "cell_type": "markdown",
   "metadata": {},
   "source": [
    "# Predictive Process Mining"
   ]
  },
  {
   "cell_type": "markdown",
   "metadata": {},
   "source": [
    "## Event Log \n",
    "\n",
    "We are using the Sepsis event log as an example."
   ]
  },
  {
   "cell_type": "code",
   "execution_count": 57,
   "metadata": {},
   "outputs": [],
   "source": [
    "sepsis = pd.read_csv(\"../data/sepsis.csv\", sep=';')\n",
    "sepsis_log = pm4py.format_dataframe(sepsis, case_id='case_id', activity_key='activity', timestamp_key='timestamp')\n",
    "sepsis_log = pm4py.convert_to_event_log(sepsis_log)"
   ]
  },
  {
   "cell_type": "code",
   "execution_count": 58,
   "id": "cd982e1f-dbf3-4a6c-bce1-c8a295e56ef6",
   "metadata": {},
   "outputs": [
    {
     "data": {
      "text/plain": [
       "1050"
      ]
     },
     "execution_count": 58,
     "metadata": {},
     "output_type": "execute_result"
    }
   ],
   "source": [
    "len(sepsis_log)"
   ]
  },
  {
   "cell_type": "markdown",
   "id": "94d64ea8-e901-46ca-9a46-6c7abf3fa68a",
   "metadata": {},
   "source": [
    "## Feature Extraction / Encoding\n",
    "\n",
    "We are using the PM4Py functionality to do [feature selection and processing](https://pm4py.fit.fraunhofer.de/documentation/1.5#item-7-0-1) of the event log."
   ]
  },
  {
   "cell_type": "markdown",
   "id": "0a6a9625-4aca-4429-b467-2c118a2ea431",
   "metadata": {},
   "source": [
    "### Set of Events"
   ]
  },
  {
   "cell_type": "code",
   "execution_count": 59,
   "id": "fc2b66ef-0ddf-40a5-adb4-361b5a77eb91",
   "metadata": {},
   "outputs": [],
   "source": [
    "from pm4py.algo.transformation.log_to_features import algorithm as log_to_features\n",
    "from pm4py.objects.log.util.log import project_traces\n",
    "\n",
    "data, feature_names = log_to_features.apply(sepsis_log, parameters={\"str_ev_attr\": [\"concept:name\"]})"
   ]
  },
  {
   "cell_type": "markdown",
   "metadata": {},
   "source": [
    "The standard encoding of the `concept:name` attribute (i.e., the event label) is a one-hot encoded vector."
   ]
  },
  {
   "cell_type": "code",
   "execution_count": 60,
   "metadata": {},
   "outputs": [
    {
     "name": "stdout",
     "output_type": "stream",
     "text": [
      "1st trace : ['ER Registration', 'Leucocytes', 'CRP', 'LacticAcid', 'ER Triage', 'ER Sepsis Triage', 'IV Liquid', 'IV Antibiotics', 'Admission NC', 'CRP', 'Leucocytes', 'Leucocytes', 'CRP', 'Leucocytes', 'CRP', 'CRP', 'Leucocytes', 'Leucocytes', 'CRP', 'CRP', 'Leucocytes', 'Release A']\n"
     ]
    }
   ],
   "source": [
    "print(\"1st trace : \" + str(project_traces(sepsis_log)[0]))"
   ]
  },
  {
   "cell_type": "code",
   "execution_count": 61,
   "id": "d4e71c6d-580f-4aae-a68e-e5143fb1a533",
   "metadata": {},
   "outputs": [
    {
     "name": "stdout",
     "output_type": "stream",
     "text": [
      "1st trace encoded: [0, 1, 1, 1, 1, 1, 1, 1, 1, 1, 1, 0, 0, 0, 0, 0]\n"
     ]
    }
   ],
   "source": [
    "print(\"1st trace encoded: \" + str(data[0]))"
   ]
  },
  {
   "cell_type": "markdown",
   "metadata": {},
   "source": [
    "The index of the number corresponds to the index in the following feature label vector:"
   ]
  },
  {
   "cell_type": "code",
   "execution_count": 62,
   "id": "52b5ca9a-8ea0-47cd-ae4d-bf54a1a03e13",
   "metadata": {},
   "outputs": [
    {
     "data": {
      "text/plain": [
       "['event:concept:name@Admission IC',\n",
       " 'event:concept:name@Admission NC',\n",
       " 'event:concept:name@CRP',\n",
       " 'event:concept:name@ER Registration',\n",
       " 'event:concept:name@ER Sepsis Triage',\n",
       " 'event:concept:name@ER Triage',\n",
       " 'event:concept:name@IV Antibiotics',\n",
       " 'event:concept:name@IV Liquid',\n",
       " 'event:concept:name@LacticAcid',\n",
       " 'event:concept:name@Leucocytes',\n",
       " 'event:concept:name@Release A',\n",
       " 'event:concept:name@Release B',\n",
       " 'event:concept:name@Release C',\n",
       " 'event:concept:name@Release D',\n",
       " 'event:concept:name@Release E',\n",
       " 'event:concept:name@Return ER']"
      ]
     },
     "execution_count": 62,
     "metadata": {},
     "output_type": "execute_result"
    }
   ],
   "source": [
    "feature_names"
   ]
  },
  {
   "cell_type": "markdown",
   "metadata": {},
   "source": [
    "Let us try again for a different trace:"
   ]
  },
  {
   "cell_type": "code",
   "execution_count": 63,
   "metadata": {},
   "outputs": [
    {
     "name": "stdout",
     "output_type": "stream",
     "text": [
      "2nd trace : ['ER Registration', 'ER Triage', 'ER Sepsis Triage', 'Leucocytes', 'LacticAcid', 'CRP', 'IV Liquid', 'IV Antibiotics']\n",
      "2nd trace encoded: [0, 0, 1, 1, 1, 1, 1, 1, 1, 1, 0, 0, 0, 0, 0, 0]\n"
     ]
    }
   ],
   "source": [
    "print(\"2nd trace : \" + str(project_traces(sepsis_log)[1]))\n",
    "print(\"2nd trace encoded: \" + str(data[1]))"
   ]
  },
  {
   "cell_type": "markdown",
   "metadata": {},
   "source": [
    "The overall data shape is:"
   ]
  },
  {
   "cell_type": "code",
   "execution_count": 64,
   "id": "0e9a2e83-3a45-409d-82b4-2d0101273fff",
   "metadata": {},
   "outputs": [
    {
     "data": {
      "text/plain": [
       "(1050, 16)"
      ]
     },
     "execution_count": 64,
     "metadata": {},
     "output_type": "execute_result"
    }
   ],
   "source": [
    "np.asarray(data).shape"
   ]
  },
  {
   "cell_type": "markdown",
   "id": "5982a66c-24c6-4f3f-b2cb-a42abab23b69",
   "metadata": {},
   "source": [
    "So, PM4Py gives us a *one-hot encoding* of the so called *set abstraction* of the event log. This means there are 16 distinct activities in the event log and the feature vector simply encodes whether that activity is present or not in the data. \n",
    "\n",
    "Let us have a look at the distribution of these feature vectors:"
   ]
  },
  {
   "cell_type": "code",
   "execution_count": 65,
   "id": "b514b73c-ba13-47f1-bce9-fc64684783ca",
   "metadata": {},
   "outputs": [
    {
     "data": {
      "text/plain": [
       "(array([[0, 0, 0, ..., 0, 0, 0],\n",
       "        [0, 0, 0, ..., 0, 0, 0],\n",
       "        [0, 0, 1, ..., 0, 0, 0],\n",
       "        ...,\n",
       "        [1, 1, 1, ..., 0, 0, 0],\n",
       "        [1, 1, 1, ..., 0, 0, 0],\n",
       "        [1, 1, 1, ..., 0, 0, 1]]),\n",
       " array([ 35,   2,  63,  23,   3,   8,   7,  99,   2,   3,   1,   1,   1,\n",
       "          2,   2,   2,   2,  28,  11,   2,   1,   1,   2,   6,  14,  13,\n",
       "          4,   1,   1,   2,   1,   3,  23,  16,   3,  10,   5,  21,   1,\n",
       "          9,   5,  14,   5,  29, 267, 186,   1,   1,   3,   4,   1,   1,\n",
       "          1,   2,   4,   8,   1,   1,   1,   2,   3,   1,   6,  31,  38],\n",
       "       dtype=int64))"
      ]
     },
     "execution_count": 65,
     "metadata": {},
     "output_type": "execute_result"
    }
   ],
   "source": [
    "dist_features = np.unique(data, return_counts= True, axis = 0)\n",
    "dist_features"
   ]
  },
  {
   "cell_type": "markdown",
   "id": "661d3f26-b06b-4aae-8f55-7e3e0c5e4acd",
   "metadata": {},
   "source": [
    "What is the most common feature vector?"
   ]
  },
  {
   "cell_type": "code",
   "execution_count": 66,
   "id": "d315b957-063d-476c-ad7a-7bd1682b350a",
   "metadata": {},
   "outputs": [
    {
     "data": {
      "text/plain": [
       "array([0, 1, 1, 1, 1, 1, 1, 1, 1, 1, 1, 0, 0, 0, 0, 0])"
      ]
     },
     "execution_count": 66,
     "metadata": {},
     "output_type": "execute_result"
    }
   ],
   "source": [
    "dist_features[0][np.argmax(dist_features[1])]"
   ]
  },
  {
   "cell_type": "markdown",
   "id": "26e6b973-dcbb-4719-8758-2ca4e64be582",
   "metadata": {},
   "source": [
    "Makes sense, almost all activities actually are bound to occur in this process. There are only few choices.\n",
    "So, this encoding is likely not the most useful one but a very simple one."
   ]
  },
  {
   "cell_type": "markdown",
   "metadata": {},
   "source": [
    "### 2-grams"
   ]
  },
  {
   "cell_type": "code",
   "execution_count": 67,
   "metadata": {},
   "outputs": [],
   "source": [
    "data_2gram, feature_names = log_to_features.apply(sepsis_log, parameters={\"str_ev_attr\": None, \n",
    "                                                        \"str_tr_attr\": None, \n",
    "                                                        \"num_ev_attr\": None, \n",
    "                                                        \"num_tr_attr\": None, \n",
    "                                                        \"str_evsucc_attr\": [\"concept:name\"]})"
   ]
  },
  {
   "cell_type": "markdown",
   "metadata": {},
   "source": [
    "There is a bug in PM4Py (https://github.com/pm4py/pm4py-core/issues/293) that causes too many feature to be returned.\n",
    "So, we need to disregard the initial features extracted."
   ]
  },
  {
   "cell_type": "code",
   "execution_count": 68,
   "metadata": {},
   "outputs": [
    {
     "data": {
      "text/plain": [
       "115"
      ]
     },
     "execution_count": 68,
     "metadata": {},
     "output_type": "execute_result"
    }
   ],
   "source": [
    "feature_names = feature_names[41:]\n",
    "len(feature_names)"
   ]
  },
  {
   "cell_type": "code",
   "execution_count": 69,
   "metadata": {},
   "outputs": [
    {
     "data": {
      "text/plain": [
       "['succession:concept:name@Admission IC#Admission IC',\n",
       " 'succession:concept:name@Admission IC#Admission NC',\n",
       " 'succession:concept:name@Admission IC#CRP',\n",
       " 'succession:concept:name@Admission IC#ER Sepsis Triage',\n",
       " 'succession:concept:name@Admission IC#LacticAcid',\n",
       " 'succession:concept:name@Admission IC#Leucocytes',\n",
       " 'succession:concept:name@Admission NC#Admission IC',\n",
       " 'succession:concept:name@Admission NC#Admission NC',\n",
       " 'succession:concept:name@Admission NC#CRP',\n",
       " 'succession:concept:name@Admission NC#ER Sepsis Triage',\n",
       " 'succession:concept:name@Admission NC#ER Triage',\n",
       " 'succession:concept:name@Admission NC#IV Antibiotics',\n",
       " 'succession:concept:name@Admission NC#IV Liquid',\n",
       " 'succession:concept:name@Admission NC#LacticAcid',\n",
       " 'succession:concept:name@Admission NC#Leucocytes',\n",
       " 'succession:concept:name@Admission NC#Release A',\n",
       " 'succession:concept:name@Admission NC#Release B',\n",
       " 'succession:concept:name@Admission NC#Release C',\n",
       " 'succession:concept:name@Admission NC#Release D',\n",
       " 'succession:concept:name@CRP#Admission IC',\n",
       " 'succession:concept:name@CRP#Admission NC',\n",
       " 'succession:concept:name@CRP#CRP',\n",
       " 'succession:concept:name@CRP#ER Registration',\n",
       " 'succession:concept:name@CRP#ER Sepsis Triage',\n",
       " 'succession:concept:name@CRP#ER Triage',\n",
       " 'succession:concept:name@CRP#IV Antibiotics',\n",
       " 'succession:concept:name@CRP#IV Liquid',\n",
       " 'succession:concept:name@CRP#LacticAcid',\n",
       " 'succession:concept:name@CRP#Leucocytes',\n",
       " 'succession:concept:name@CRP#Release A',\n",
       " 'succession:concept:name@CRP#Release B',\n",
       " 'succession:concept:name@CRP#Release C',\n",
       " 'succession:concept:name@CRP#Release D',\n",
       " 'succession:concept:name@CRP#Release E',\n",
       " 'succession:concept:name@ER Registration#Admission IC',\n",
       " 'succession:concept:name@ER Registration#CRP',\n",
       " 'succession:concept:name@ER Registration#ER Sepsis Triage',\n",
       " 'succession:concept:name@ER Registration#ER Triage',\n",
       " 'succession:concept:name@ER Registration#IV Liquid',\n",
       " 'succession:concept:name@ER Registration#LacticAcid',\n",
       " 'succession:concept:name@ER Registration#Leucocytes',\n",
       " 'succession:concept:name@ER Sepsis Triage#Admission IC',\n",
       " 'succession:concept:name@ER Sepsis Triage#Admission NC',\n",
       " 'succession:concept:name@ER Sepsis Triage#CRP',\n",
       " 'succession:concept:name@ER Sepsis Triage#ER Registration',\n",
       " 'succession:concept:name@ER Sepsis Triage#ER Triage',\n",
       " 'succession:concept:name@ER Sepsis Triage#IV Antibiotics',\n",
       " 'succession:concept:name@ER Sepsis Triage#IV Liquid',\n",
       " 'succession:concept:name@ER Sepsis Triage#LacticAcid',\n",
       " 'succession:concept:name@ER Sepsis Triage#Leucocytes',\n",
       " 'succession:concept:name@ER Triage#CRP',\n",
       " 'succession:concept:name@ER Triage#ER Registration',\n",
       " 'succession:concept:name@ER Triage#ER Sepsis Triage',\n",
       " 'succession:concept:name@ER Triage#IV Antibiotics',\n",
       " 'succession:concept:name@ER Triage#IV Liquid',\n",
       " 'succession:concept:name@ER Triage#LacticAcid',\n",
       " 'succession:concept:name@ER Triage#Leucocytes',\n",
       " 'succession:concept:name@IV Antibiotics#Admission IC',\n",
       " 'succession:concept:name@IV Antibiotics#Admission NC',\n",
       " 'succession:concept:name@IV Antibiotics#CRP',\n",
       " 'succession:concept:name@IV Antibiotics#ER Registration',\n",
       " 'succession:concept:name@IV Antibiotics#ER Triage',\n",
       " 'succession:concept:name@IV Antibiotics#IV Liquid',\n",
       " 'succession:concept:name@IV Antibiotics#LacticAcid',\n",
       " 'succession:concept:name@IV Antibiotics#Leucocytes',\n",
       " 'succession:concept:name@IV Antibiotics#Release A',\n",
       " 'succession:concept:name@IV Antibiotics#Release B',\n",
       " 'succession:concept:name@IV Liquid#Admission IC',\n",
       " 'succession:concept:name@IV Liquid#Admission NC',\n",
       " 'succession:concept:name@IV Liquid#CRP',\n",
       " 'succession:concept:name@IV Liquid#ER Registration',\n",
       " 'succession:concept:name@IV Liquid#ER Sepsis Triage',\n",
       " 'succession:concept:name@IV Liquid#ER Triage',\n",
       " 'succession:concept:name@IV Liquid#IV Antibiotics',\n",
       " 'succession:concept:name@IV Liquid#LacticAcid',\n",
       " 'succession:concept:name@IV Liquid#Leucocytes',\n",
       " 'succession:concept:name@IV Liquid#Release A',\n",
       " 'succession:concept:name@IV Liquid#Release B',\n",
       " 'succession:concept:name@LacticAcid#Admission IC',\n",
       " 'succession:concept:name@LacticAcid#Admission NC',\n",
       " 'succession:concept:name@LacticAcid#CRP',\n",
       " 'succession:concept:name@LacticAcid#ER Registration',\n",
       " 'succession:concept:name@LacticAcid#ER Sepsis Triage',\n",
       " 'succession:concept:name@LacticAcid#ER Triage',\n",
       " 'succession:concept:name@LacticAcid#IV Antibiotics',\n",
       " 'succession:concept:name@LacticAcid#IV Liquid',\n",
       " 'succession:concept:name@LacticAcid#LacticAcid',\n",
       " 'succession:concept:name@LacticAcid#Leucocytes',\n",
       " 'succession:concept:name@LacticAcid#Release A',\n",
       " 'succession:concept:name@LacticAcid#Release B',\n",
       " 'succession:concept:name@LacticAcid#Release E',\n",
       " 'succession:concept:name@Leucocytes#Admission IC',\n",
       " 'succession:concept:name@Leucocytes#Admission NC',\n",
       " 'succession:concept:name@Leucocytes#CRP',\n",
       " 'succession:concept:name@Leucocytes#ER Registration',\n",
       " 'succession:concept:name@Leucocytes#ER Sepsis Triage',\n",
       " 'succession:concept:name@Leucocytes#ER Triage',\n",
       " 'succession:concept:name@Leucocytes#IV Antibiotics',\n",
       " 'succession:concept:name@Leucocytes#IV Liquid',\n",
       " 'succession:concept:name@Leucocytes#LacticAcid',\n",
       " 'succession:concept:name@Leucocytes#Leucocytes',\n",
       " 'succession:concept:name@Leucocytes#Release A',\n",
       " 'succession:concept:name@Leucocytes#Release B',\n",
       " 'succession:concept:name@Leucocytes#Release C',\n",
       " 'succession:concept:name@Leucocytes#Release D',\n",
       " 'succession:concept:name@Leucocytes#Release E',\n",
       " 'succession:concept:name@Leucocytes#Return ER',\n",
       " 'succession:concept:name@Release A#CRP',\n",
       " 'succession:concept:name@Release A#Leucocytes',\n",
       " 'succession:concept:name@Release A#Return ER',\n",
       " 'succession:concept:name@Release B#Admission NC',\n",
       " 'succession:concept:name@Release C#Return ER',\n",
       " 'succession:concept:name@Release D#Return ER',\n",
       " 'succession:concept:name@Release E#Return ER',\n",
       " 'succession:concept:name@Return ER#CRP']"
      ]
     },
     "execution_count": 69,
     "metadata": {},
     "output_type": "execute_result"
    }
   ],
   "source": [
    "feature_names"
   ]
  },
  {
   "cell_type": "code",
   "execution_count": 70,
   "metadata": {},
   "outputs": [],
   "source": [
    "data_2gram = np.asarray(data_2gram)[:,41:]"
   ]
  },
  {
   "cell_type": "code",
   "execution_count": 71,
   "metadata": {},
   "outputs": [
    {
     "name": "stdout",
     "output_type": "stream",
     "text": [
      "1st trace : ['ER Registration', 'Leucocytes', 'CRP', 'LacticAcid', 'ER Triage', 'ER Sepsis Triage', 'IV Liquid', 'IV Antibiotics', 'Admission NC', 'CRP', 'Leucocytes', 'Leucocytes', 'CRP', 'Leucocytes', 'CRP', 'CRP', 'Leucocytes', 'Leucocytes', 'CRP', 'CRP', 'Leucocytes', 'Release A']\n"
     ]
    }
   ],
   "source": [
    "print(\"1st trace : \" + str(project_traces(sepsis_log)[0]))"
   ]
  },
  {
   "cell_type": "code",
   "execution_count": 72,
   "metadata": {},
   "outputs": [
    {
     "name": "stdout",
     "output_type": "stream",
     "text": [
      "1st trace encoded: [0. 0. 0. 0. 0. 0. 0. 0. 1. 0. 0. 0. 0. 0. 0. 0. 0. 0. 0. 0. 0. 1. 0. 0.\n",
      " 0. 0. 0. 1. 1. 0. 0. 0. 0. 0. 0. 0. 0. 0. 0. 0. 1. 0. 0. 0. 0. 0. 0. 1.\n",
      " 0. 0. 0. 0. 1. 0. 0. 0. 0. 0. 1. 0. 0. 0. 0. 0. 0. 0. 0. 0. 0. 0. 0. 0.\n",
      " 0. 1. 0. 0. 0. 0. 0. 0. 0. 0. 0. 1. 0. 0. 0. 0. 0. 0. 0. 0. 0. 1. 0. 0.\n",
      " 0. 0. 0. 0. 1. 1. 0. 0. 0. 0. 0. 0. 0. 0. 0. 0. 0. 0. 0.]\n"
     ]
    }
   ],
   "source": [
    "print(\"1st trace encoded: \" + str(data_2gram[0]))"
   ]
  },
  {
   "cell_type": "markdown",
   "id": "a47f5556-a1a5-48b1-9f3b-574f5ccb172c",
   "metadata": {},
   "source": [
    "### Bag of Words / Multiset"
   ]
  },
  {
   "cell_type": "markdown",
   "metadata": {},
   "source": [
    "Another option would be to use the encoding known as `bag of words` in Natural Language Processing, which is constructing a multiset of the one-hot encoded events. So, the frequency with which each activity occurs is reflected.-"
   ]
  },
  {
   "cell_type": "code",
   "execution_count": 73,
   "metadata": {},
   "outputs": [
    {
     "name": "stdout",
     "output_type": "stream",
     "text": [
      "case_id    1049\n",
      "dtype: int64\n"
     ]
    }
   ],
   "source": [
    "print(sepsis.loc[:,[\"case_id\"]].nunique())"
   ]
  },
  {
   "cell_type": "markdown",
   "metadata": {},
   "source": [
    "We seem to have a NA value in the case attribute let us fix this by replacing with a String (in real world data you should be looking for the underlying reason)"
   ]
  },
  {
   "cell_type": "code",
   "execution_count": 74,
   "metadata": {},
   "outputs": [],
   "source": [
    "sepsis = sepsis.fillna(\"MISSING\")"
   ]
  },
  {
   "cell_type": "code",
   "execution_count": 75,
   "metadata": {},
   "outputs": [
    {
     "name": "stdout",
     "output_type": "stream",
     "text": [
      "case_id    1050\n",
      "dtype: int64\n"
     ]
    }
   ],
   "source": [
    "print(sepsis.loc[:,[\"case_id\"]].nunique())"
   ]
  },
  {
   "cell_type": "markdown",
   "metadata": {},
   "source": [
    "This looks better. Now lets build a bag of words representation by grouping our data and then counting the number of events refering to the individual activities."
   ]
  },
  {
   "cell_type": "code",
   "execution_count": 76,
   "metadata": {},
   "outputs": [
    {
     "data": {
      "text/html": [
       "<div>\n",
       "<style scoped>\n",
       "    .dataframe tbody tr th:only-of-type {\n",
       "        vertical-align: middle;\n",
       "    }\n",
       "\n",
       "    .dataframe tbody tr th {\n",
       "        vertical-align: top;\n",
       "    }\n",
       "\n",
       "    .dataframe thead th {\n",
       "        text-align: right;\n",
       "    }\n",
       "</style>\n",
       "<table border=\"1\" class=\"dataframe\">\n",
       "  <thead>\n",
       "    <tr style=\"text-align: right;\">\n",
       "      <th>activity</th>\n",
       "      <th>Admission IC</th>\n",
       "      <th>Admission NC</th>\n",
       "      <th>CRP</th>\n",
       "      <th>ER Registration</th>\n",
       "      <th>ER Sepsis Triage</th>\n",
       "      <th>ER Triage</th>\n",
       "      <th>IV Antibiotics</th>\n",
       "      <th>IV Liquid</th>\n",
       "      <th>LacticAcid</th>\n",
       "      <th>Leucocytes</th>\n",
       "      <th>Release A</th>\n",
       "      <th>Release B</th>\n",
       "      <th>Release C</th>\n",
       "      <th>Release D</th>\n",
       "      <th>Release E</th>\n",
       "      <th>Return ER</th>\n",
       "    </tr>\n",
       "    <tr>\n",
       "      <th>case_id</th>\n",
       "      <th></th>\n",
       "      <th></th>\n",
       "      <th></th>\n",
       "      <th></th>\n",
       "      <th></th>\n",
       "      <th></th>\n",
       "      <th></th>\n",
       "      <th></th>\n",
       "      <th></th>\n",
       "      <th></th>\n",
       "      <th></th>\n",
       "      <th></th>\n",
       "      <th></th>\n",
       "      <th></th>\n",
       "      <th></th>\n",
       "      <th></th>\n",
       "    </tr>\n",
       "  </thead>\n",
       "  <tbody>\n",
       "    <tr>\n",
       "      <th>A</th>\n",
       "      <td>0</td>\n",
       "      <td>1</td>\n",
       "      <td>7</td>\n",
       "      <td>1</td>\n",
       "      <td>1</td>\n",
       "      <td>1</td>\n",
       "      <td>1</td>\n",
       "      <td>1</td>\n",
       "      <td>1</td>\n",
       "      <td>7</td>\n",
       "      <td>1</td>\n",
       "      <td>0</td>\n",
       "      <td>0</td>\n",
       "      <td>0</td>\n",
       "      <td>0</td>\n",
       "      <td>0</td>\n",
       "    </tr>\n",
       "    <tr>\n",
       "      <th>AA</th>\n",
       "      <td>0</td>\n",
       "      <td>0</td>\n",
       "      <td>1</td>\n",
       "      <td>1</td>\n",
       "      <td>1</td>\n",
       "      <td>1</td>\n",
       "      <td>1</td>\n",
       "      <td>1</td>\n",
       "      <td>1</td>\n",
       "      <td>1</td>\n",
       "      <td>0</td>\n",
       "      <td>0</td>\n",
       "      <td>0</td>\n",
       "      <td>0</td>\n",
       "      <td>0</td>\n",
       "      <td>0</td>\n",
       "    </tr>\n",
       "    <tr>\n",
       "      <th>AAA</th>\n",
       "      <td>0</td>\n",
       "      <td>1</td>\n",
       "      <td>1</td>\n",
       "      <td>1</td>\n",
       "      <td>1</td>\n",
       "      <td>1</td>\n",
       "      <td>1</td>\n",
       "      <td>1</td>\n",
       "      <td>1</td>\n",
       "      <td>1</td>\n",
       "      <td>1</td>\n",
       "      <td>0</td>\n",
       "      <td>0</td>\n",
       "      <td>0</td>\n",
       "      <td>0</td>\n",
       "      <td>1</td>\n",
       "    </tr>\n",
       "    <tr>\n",
       "      <th>AB</th>\n",
       "      <td>0</td>\n",
       "      <td>0</td>\n",
       "      <td>1</td>\n",
       "      <td>1</td>\n",
       "      <td>1</td>\n",
       "      <td>1</td>\n",
       "      <td>1</td>\n",
       "      <td>1</td>\n",
       "      <td>1</td>\n",
       "      <td>1</td>\n",
       "      <td>0</td>\n",
       "      <td>0</td>\n",
       "      <td>0</td>\n",
       "      <td>0</td>\n",
       "      <td>0</td>\n",
       "      <td>0</td>\n",
       "    </tr>\n",
       "    <tr>\n",
       "      <th>ABA</th>\n",
       "      <td>0</td>\n",
       "      <td>1</td>\n",
       "      <td>4</td>\n",
       "      <td>1</td>\n",
       "      <td>1</td>\n",
       "      <td>1</td>\n",
       "      <td>1</td>\n",
       "      <td>1</td>\n",
       "      <td>1</td>\n",
       "      <td>5</td>\n",
       "      <td>1</td>\n",
       "      <td>0</td>\n",
       "      <td>0</td>\n",
       "      <td>0</td>\n",
       "      <td>0</td>\n",
       "      <td>0</td>\n",
       "    </tr>\n",
       "    <tr>\n",
       "      <th>...</th>\n",
       "      <td>...</td>\n",
       "      <td>...</td>\n",
       "      <td>...</td>\n",
       "      <td>...</td>\n",
       "      <td>...</td>\n",
       "      <td>...</td>\n",
       "      <td>...</td>\n",
       "      <td>...</td>\n",
       "      <td>...</td>\n",
       "      <td>...</td>\n",
       "      <td>...</td>\n",
       "      <td>...</td>\n",
       "      <td>...</td>\n",
       "      <td>...</td>\n",
       "      <td>...</td>\n",
       "      <td>...</td>\n",
       "    </tr>\n",
       "    <tr>\n",
       "      <th>ZV</th>\n",
       "      <td>0</td>\n",
       "      <td>1</td>\n",
       "      <td>2</td>\n",
       "      <td>1</td>\n",
       "      <td>1</td>\n",
       "      <td>1</td>\n",
       "      <td>1</td>\n",
       "      <td>1</td>\n",
       "      <td>1</td>\n",
       "      <td>2</td>\n",
       "      <td>1</td>\n",
       "      <td>0</td>\n",
       "      <td>0</td>\n",
       "      <td>0</td>\n",
       "      <td>0</td>\n",
       "      <td>0</td>\n",
       "    </tr>\n",
       "    <tr>\n",
       "      <th>ZW</th>\n",
       "      <td>0</td>\n",
       "      <td>2</td>\n",
       "      <td>2</td>\n",
       "      <td>1</td>\n",
       "      <td>1</td>\n",
       "      <td>1</td>\n",
       "      <td>1</td>\n",
       "      <td>1</td>\n",
       "      <td>1</td>\n",
       "      <td>2</td>\n",
       "      <td>1</td>\n",
       "      <td>0</td>\n",
       "      <td>0</td>\n",
       "      <td>0</td>\n",
       "      <td>0</td>\n",
       "      <td>0</td>\n",
       "    </tr>\n",
       "    <tr>\n",
       "      <th>ZX</th>\n",
       "      <td>0</td>\n",
       "      <td>1</td>\n",
       "      <td>1</td>\n",
       "      <td>1</td>\n",
       "      <td>1</td>\n",
       "      <td>1</td>\n",
       "      <td>1</td>\n",
       "      <td>1</td>\n",
       "      <td>1</td>\n",
       "      <td>1</td>\n",
       "      <td>1</td>\n",
       "      <td>0</td>\n",
       "      <td>0</td>\n",
       "      <td>0</td>\n",
       "      <td>0</td>\n",
       "      <td>0</td>\n",
       "    </tr>\n",
       "    <tr>\n",
       "      <th>ZY</th>\n",
       "      <td>0</td>\n",
       "      <td>0</td>\n",
       "      <td>1</td>\n",
       "      <td>1</td>\n",
       "      <td>1</td>\n",
       "      <td>1</td>\n",
       "      <td>1</td>\n",
       "      <td>1</td>\n",
       "      <td>1</td>\n",
       "      <td>1</td>\n",
       "      <td>0</td>\n",
       "      <td>0</td>\n",
       "      <td>0</td>\n",
       "      <td>0</td>\n",
       "      <td>0</td>\n",
       "      <td>0</td>\n",
       "    </tr>\n",
       "    <tr>\n",
       "      <th>ZZ</th>\n",
       "      <td>0</td>\n",
       "      <td>1</td>\n",
       "      <td>3</td>\n",
       "      <td>1</td>\n",
       "      <td>1</td>\n",
       "      <td>1</td>\n",
       "      <td>1</td>\n",
       "      <td>1</td>\n",
       "      <td>1</td>\n",
       "      <td>3</td>\n",
       "      <td>1</td>\n",
       "      <td>0</td>\n",
       "      <td>0</td>\n",
       "      <td>0</td>\n",
       "      <td>0</td>\n",
       "      <td>0</td>\n",
       "    </tr>\n",
       "  </tbody>\n",
       "</table>\n",
       "<p>1050 rows × 16 columns</p>\n",
       "</div>"
      ],
      "text/plain": [
       "activity  Admission IC  Admission NC  CRP  ER Registration  ER Sepsis Triage  \\\n",
       "case_id                                                                        \n",
       "A                    0             1    7                1                 1   \n",
       "AA                   0             0    1                1                 1   \n",
       "AAA                  0             1    1                1                 1   \n",
       "AB                   0             0    1                1                 1   \n",
       "ABA                  0             1    4                1                 1   \n",
       "...                ...           ...  ...              ...               ...   \n",
       "ZV                   0             1    2                1                 1   \n",
       "ZW                   0             2    2                1                 1   \n",
       "ZX                   0             1    1                1                 1   \n",
       "ZY                   0             0    1                1                 1   \n",
       "ZZ                   0             1    3                1                 1   \n",
       "\n",
       "activity  ER Triage  IV Antibiotics  IV Liquid  LacticAcid  Leucocytes  \\\n",
       "case_id                                                                  \n",
       "A                 1               1          1           1           7   \n",
       "AA                1               1          1           1           1   \n",
       "AAA               1               1          1           1           1   \n",
       "AB                1               1          1           1           1   \n",
       "ABA               1               1          1           1           5   \n",
       "...             ...             ...        ...         ...         ...   \n",
       "ZV                1               1          1           1           2   \n",
       "ZW                1               1          1           1           2   \n",
       "ZX                1               1          1           1           1   \n",
       "ZY                1               1          1           1           1   \n",
       "ZZ                1               1          1           1           3   \n",
       "\n",
       "activity  Release A  Release B  Release C  Release D  Release E  Return ER  \n",
       "case_id                                                                     \n",
       "A                 1          0          0          0          0          0  \n",
       "AA                0          0          0          0          0          0  \n",
       "AAA               1          0          0          0          0          1  \n",
       "AB                0          0          0          0          0          0  \n",
       "ABA               1          0          0          0          0          0  \n",
       "...             ...        ...        ...        ...        ...        ...  \n",
       "ZV                1          0          0          0          0          0  \n",
       "ZW                1          0          0          0          0          0  \n",
       "ZX                1          0          0          0          0          0  \n",
       "ZY                0          0          0          0          0          0  \n",
       "ZZ                1          0          0          0          0          0  \n",
       "\n",
       "[1050 rows x 16 columns]"
      ]
     },
     "execution_count": 76,
     "metadata": {},
     "output_type": "execute_result"
    }
   ],
   "source": [
    "sepsis_multiset_pd = sepsis.loc[:,[\"case_id\", \"activity\"]].groupby([\"case_id\", \"activity\"]).size().unstack(fill_value=0)\n",
    "sepsis_multiset_pd"
   ]
  },
  {
   "cell_type": "code",
   "execution_count": 77,
   "metadata": {},
   "outputs": [
    {
     "data": {
      "text/plain": [
       "(1050, 16)"
      ]
     },
     "execution_count": 77,
     "metadata": {},
     "output_type": "execute_result"
    }
   ],
   "source": [
    "data_multiset = np.asarray(sepsis_multiset_pd)\n",
    "data_multiset.shape"
   ]
  },
  {
   "cell_type": "code",
   "execution_count": 78,
   "metadata": {},
   "outputs": [
    {
     "name": "stdout",
     "output_type": "stream",
     "text": [
      "1st trace : ['ER Registration', 'Leucocytes', 'CRP', 'LacticAcid', 'ER Triage', 'ER Sepsis Triage', 'IV Liquid', 'IV Antibiotics', 'Admission NC', 'CRP', 'Leucocytes', 'Leucocytes', 'CRP', 'Leucocytes', 'CRP', 'CRP', 'Leucocytes', 'Leucocytes', 'CRP', 'CRP', 'Leucocytes', 'Release A']\n",
      "1st trace encoded: [0 1 7 1 1 1 1 1 1 7 1 0 0 0 0 0]\n"
     ]
    }
   ],
   "source": [
    "print(\"1st trace : \" + str(project_traces(sepsis_log)[0]))\n",
    "print(\"1st trace encoded: \" + str(data_multiset[0]))"
   ]
  },
  {
   "cell_type": "code",
   "execution_count": 79,
   "metadata": {},
   "outputs": [
    {
     "name": "stdout",
     "output_type": "stream",
     "text": [
      "2nd trace : ['ER Registration', 'ER Triage', 'ER Sepsis Triage', 'Leucocytes', 'LacticAcid', 'CRP', 'IV Liquid', 'IV Antibiotics']\n",
      "2nd trace encoded: [0 0 1 1 1 1 1 1 1 1 0 0 0 0 0 0]\n"
     ]
    }
   ],
   "source": [
    "print(\"2nd trace : \" + str(project_traces(sepsis_log)[1]))\n",
    "print(\"2nd trace encoded: \" + str(data_multiset[1]))"
   ]
  },
  {
   "cell_type": "markdown",
   "metadata": {},
   "source": [
    "This already gives us more information."
   ]
  },
  {
   "cell_type": "markdown",
   "id": "6078eaf4-0033-4190-8540-e9d903e6873f",
   "metadata": {},
   "source": [
    "# Prediction\n",
    "\n",
    "Let us try to build a basic prediction model based on this information."
   ]
  },
  {
   "cell_type": "markdown",
   "id": "e6a61ac6-d144-4c72-a184-2af014e07616",
   "metadata": {},
   "source": [
    "### Throughput time\n",
    "\n",
    "We aim to predict the throughput time of a case. So let us look at the distribution of throughput time."
   ]
  },
  {
   "cell_type": "code",
   "execution_count": 80,
   "id": "0e5d03b2-106c-4b61-b2fd-c1d63fbfe69b",
   "metadata": {},
   "outputs": [],
   "source": [
    "from pm4py.statistics.traces.generic.log import case_statistics\n",
    "\n",
    "durations = np.asarray(case_statistics.get_all_case_durations(sepsis_log, parameters={ case_statistics.Parameters.TIMESTAMP_KEY: \"time:timestamp\"} ))\n",
    "durations = np.expand_dims(durations, 1)\n",
    "len(durations)\n",
    "durations = durations / 60 / 60 / 24 # in days"
   ]
  },
  {
   "cell_type": "code",
   "execution_count": 81,
   "id": "049de87d-0c94-4a9b-8eea-8b494cd2bfa7",
   "metadata": {},
   "outputs": [
    {
     "data": {
      "text/plain": [
       "Text(0, 0.5, 'Throughput time (days)')"
      ]
     },
     "execution_count": 81,
     "metadata": {},
     "output_type": "execute_result"
    },
    {
     "data": {
      "image/png": "[encoded data removed]",
      "text/plain": [
       "<Figure size 432x288 with 1 Axes>"
      ]
     },
     "metadata": {
      "needs_background": "light"
     },
     "output_type": "display_data"
    }
   ],
   "source": [
    "pd.DataFrame(durations).boxplot().set_ylabel('Throughput time (days)')"
   ]
  },
  {
   "cell_type": "code",
   "execution_count": 82,
   "metadata": {},
   "outputs": [],
   "source": [
    "durations = durations.flatten()"
   ]
  },
  {
   "cell_type": "code",
   "execution_count": 83,
   "metadata": {},
   "outputs": [
    {
     "data": {
      "text/plain": [
       "array([1.41203704e-03, 1.44675926e-03, 1.58564815e-03, ...,\n",
       "       3.98923646e+02, 4.21865822e+02, 4.22323947e+02])"
      ]
     },
     "execution_count": 83,
     "metadata": {},
     "output_type": "execute_result"
    }
   ],
   "source": [
    "durations"
   ]
  },
  {
   "cell_type": "markdown",
   "metadata": {},
   "source": [
    "Remove outliers"
   ]
  },
  {
   "cell_type": "code",
   "execution_count": 84,
   "metadata": {},
   "outputs": [],
   "source": [
    "min_duration = 0.5\n",
    "max_duration = 100\n",
    "\n",
    "data = np.asarray(data)[np.where((durations < max_duration) & (durations > min_duration))]\n",
    "data_2gram = np.asarray(data_2gram)[np.where((durations < max_duration) & (durations > min_duration))]\n",
    "data_multiset = data_multiset[np.where((durations < max_duration) & (durations > min_duration))]\n",
    "durations = durations[np.where((durations < max_duration) & (durations > min_duration))]"
   ]
  },
  {
   "cell_type": "code",
   "execution_count": 85,
   "metadata": {},
   "outputs": [
    {
     "data": {
      "text/plain": [
       "Text(0, 0.5, 'Throughput time (days)')"
      ]
     },
     "execution_count": 85,
     "metadata": {},
     "output_type": "execute_result"
    },
    {
     "data": {
      "image/png": "[encoded data removed]",
      "text/plain": [
       "<Figure size 432x288 with 1 Axes>"
      ]
     },
     "metadata": {
      "needs_background": "light"
     },
     "output_type": "display_data"
    }
   ],
   "source": [
    "pd.DataFrame(durations).boxplot().set_ylabel('Throughput time (days)')"
   ]
  },
  {
   "cell_type": "markdown",
   "metadata": {},
   "source": [
    "Choose the encoding:"
   ]
  },
  {
   "cell_type": "code",
   "execution_count": 91,
   "metadata": {},
   "outputs": [],
   "source": [
    "data_input = data_2gram"
   ]
  },
  {
   "cell_type": "markdown",
   "metadata": {},
   "source": [
    "Scale the data"
   ]
  },
  {
   "cell_type": "code",
   "execution_count": 92,
   "metadata": {},
   "outputs": [],
   "source": [
    "from sklearn.preprocessing import MinMaxScaler\n",
    "\n",
    "scaler_x = MinMaxScaler()\n",
    "data_scaled = scaler_x.fit_transform(data_input)\n",
    "\n",
    "scaler_y = MinMaxScaler()\n",
    "durations_scaled = scaler_y.fit_transform(durations.reshape(-1, 1))"
   ]
  },
  {
   "cell_type": "markdown",
   "metadata": {},
   "source": [
    "We make use of PyTorch to build a simple Neural Network."
   ]
  },
  {
   "cell_type": "code",
   "execution_count": 93,
   "id": "4a2bc0a1-e4c7-45f4-a43a-d5995ee9a682",
   "metadata": {},
   "outputs": [
    {
     "name": "stdout",
     "output_type": "stream",
     "text": [
      "torch.Size([698, 115])\n",
      "torch.Size([698, 1])\n"
     ]
    }
   ],
   "source": [
    "from torch.utils.data import TensorDataset, DataLoader\n",
    "\n",
    "# We need float32 data\n",
    "x = torch.from_numpy(data_scaled.astype('float32'))\n",
    "y = torch.from_numpy(durations_scaled.astype('float32'))\n",
    "\n",
    "# Always check the shapes\n",
    "print(x.shape)\n",
    "print(y.shape)\n",
    "\n",
    "ds = TensorDataset(x, y)\n",
    "train_dataloader = DataLoader(ds, batch_size=32, shuffle=True)"
   ]
  },
  {
   "cell_type": "markdown",
   "metadata": {},
   "source": [
    "Let us check a random single sample from our data loader (always a good idea!)"
   ]
  },
  {
   "cell_type": "code",
   "execution_count": 94,
   "metadata": {},
   "outputs": [
    {
     "name": "stdout",
     "output_type": "stream",
     "text": [
      "tensor([0., 0., 0., 0., 0., 0., 0., 0., 1., 0., 0., 0., 0., 0., 0., 0., 0., 0.,\n",
      "        0., 0., 0., 0., 0., 0., 0., 0., 0., 1., 1., 1., 0., 0., 0., 0., 0., 0.,\n",
      "        0., 1., 0., 0., 0., 0., 0., 1., 0., 0., 0., 0., 0., 0., 0., 0., 1., 0.,\n",
      "        0., 0., 0., 0., 0., 0., 0., 0., 0., 0., 0., 0., 0., 0., 0., 0., 0., 0.,\n",
      "        0., 0., 0., 0., 0., 0., 0., 0., 0., 0., 0., 0., 0., 0., 0., 1., 0., 0.,\n",
      "        0., 0., 1., 1., 0., 0., 0., 0., 0., 1., 0., 0., 0., 0., 0., 0., 0., 0.,\n",
      "        0., 0., 0., 0., 0., 0., 0.])\n",
      "tensor([0.0588])\n"
     ]
    }
   ],
   "source": [
    "inputs, classes = next(iter(train_dataloader))\n",
    "print(inputs[0])\n",
    "print(classes[0])"
   ]
  },
  {
   "cell_type": "markdown",
   "id": "778c0a7a-f710-40cb-bfa6-f7181bdd6411",
   "metadata": {},
   "source": [
    "Let's define a simple network and try to overfit:"
   ]
  },
  {
   "cell_type": "code",
   "execution_count": 95,
   "id": "ff7e9a89-0c57-4cb2-9e4f-62f2ec90c791",
   "metadata": {},
   "outputs": [],
   "source": [
    "class NeuralNetwork(nn.Module):\n",
    "    def __init__(self):\n",
    "        super(NeuralNetwork, self).__init__()\n",
    "        self.linear_relu_stack = nn.Sequential(            \n",
    "            torch.nn.Linear(x.shape[1], 8),\n",
    "            nn.BatchNorm1d(num_features=8),\n",
    "            nn.LeakyReLU(),            \n",
    "            torch.nn.Linear(8, 32),\n",
    "            nn.BatchNorm1d(num_features=32),\n",
    "            nn.LeakyReLU(),\n",
    "            torch.nn.Linear(32, 64),\n",
    "            nn.BatchNorm1d(num_features=64),\n",
    "            nn.LeakyReLU(),\n",
    "            torch.nn.Linear(64, 32),\n",
    "            nn.BatchNorm1d(num_features=32),\n",
    "            nn.LeakyReLU(),            \n",
    "            torch.nn.Linear(32, 1)\n",
    "        )\n",
    "\n",
    "    def forward(self, x):\n",
    "        logits = self.linear_relu_stack(x)\n",
    "        return logits"
   ]
  },
  {
   "cell_type": "code",
   "execution_count": 96,
   "id": "da4c5c80-f753-41dc-880f-cf473846ab4e",
   "metadata": {},
   "outputs": [
    {
     "name": "stdout",
     "output_type": "stream",
     "text": [
      "Using cuda device\n",
      "NeuralNetwork(\n",
      "  (linear_relu_stack): Sequential(\n",
      "    (0): Linear(in_features=115, out_features=8, bias=True)\n",
      "    (1): BatchNorm1d(8, eps=1e-05, momentum=0.1, affine=True, track_running_stats=True)\n",
      "    (2): LeakyReLU(negative_slope=0.01)\n",
      "    (3): Linear(in_features=8, out_features=32, bias=True)\n",
      "    (4): BatchNorm1d(32, eps=1e-05, momentum=0.1, affine=True, track_running_stats=True)\n",
      "    (5): LeakyReLU(negative_slope=0.01)\n",
      "    (6): Linear(in_features=32, out_features=64, bias=True)\n",
      "    (7): BatchNorm1d(64, eps=1e-05, momentum=0.1, affine=True, track_running_stats=True)\n",
      "    (8): LeakyReLU(negative_slope=0.01)\n",
      "    (9): Linear(in_features=64, out_features=32, bias=True)\n",
      "    (10): BatchNorm1d(32, eps=1e-05, momentum=0.1, affine=True, track_running_stats=True)\n",
      "    (11): LeakyReLU(negative_slope=0.01)\n",
      "    (12): Linear(in_features=32, out_features=1, bias=True)\n",
      "  )\n",
      ")\n"
     ]
    }
   ],
   "source": [
    "device = 'cuda' if torch.cuda.is_available() else 'cpu'\n",
    "print('Using {} device'.format(device))\n",
    "model = NeuralNetwork().to(device)\n",
    "print(model)"
   ]
  },
  {
   "cell_type": "code",
   "execution_count": 97,
   "id": "eceb53eb-e636-4f11-ab8e-f04c3c36a637",
   "metadata": {},
   "outputs": [],
   "source": [
    "def train(dataloader, model, loss_fn, measure_fn, optimizer, epochs, print_interval = 10):\n",
    "    \n",
    "    losses = []\n",
    "    size = len(dataloader.dataset)\n",
    "    \n",
    "    for epoch in range(epochs):    \n",
    "        \n",
    "        loop = tqdm(dataloader)\n",
    "\n",
    "        for batch, (X, y) in enumerate(loop):\n",
    "            X, y = X.to(device), y.to(device)\n",
    "\n",
    "            optimizer.zero_grad()\n",
    "\n",
    "            # Compute prediction error\n",
    "            pred = model(X)\n",
    "            \n",
    "            loss = loss_fn(pred, y)\n",
    "            measure = measure_fn(pred, y)\n",
    "\n",
    "            # Backpropagation\n",
    "            loss.backward()\n",
    "            optimizer.step()\n",
    "            \n",
    "            losses.append([loss.item(), measure.item()])\n",
    "\n",
    "            loop.set_description('Epoch {}/{}'.format(epoch + 1, epochs))\n",
    "            loop.set_postfix(loss=loss.item(), measure=measure.item())\n",
    "    \n",
    "    return losses"
   ]
  },
  {
   "cell_type": "code",
   "execution_count": 98,
   "id": "542533dd-79f4-41c8-979e-edc9d0889309",
   "metadata": {
    "scrolled": true,
    "tags": []
   },
   "outputs": [
    {
     "name": "stderr",
     "output_type": "stream",
     "text": [
      "Epoch 1/200: 100%|██████████| 22/22 [00:02<00:00,  7.42it/s, loss=0.0573, measure=0.171]\n",
      "Epoch 2/200: 100%|██████████| 22/22 [00:00<00:00, 173.59it/s, loss=0.0419, measure=0.138]\n",
      "Epoch 3/200: 100%|██████████| 22/22 [00:00<00:00, 174.93it/s, loss=0.0926, measure=0.224]\n",
      "Epoch 4/200: 100%|██████████| 22/22 [00:00<00:00, 176.49it/s, loss=0.021, measure=0.124]\n",
      "Epoch 5/200: 100%|██████████| 22/22 [00:00<00:00, 169.77it/s, loss=0.0484, measure=0.174]\n",
      "Epoch 6/200: 100%|██████████| 22/22 [00:00<00:00, 146.16it/s, loss=0.0538, measure=0.154]\n",
      "Epoch 7/200: 100%|██████████| 22/22 [00:00<00:00, 156.52it/s, loss=0.0453, measure=0.142]\n",
      "Epoch 8/200: 100%|██████████| 22/22 [00:00<00:00, 167.91it/s, loss=0.0292, measure=0.126]\n",
      "Epoch 9/200: 100%|██████████| 22/22 [00:00<00:00, 172.43it/s, loss=0.116, measure=0.241]\n",
      "Epoch 10/200: 100%|██████████| 22/22 [00:00<00:00, 157.65it/s, loss=0.0413, measure=0.14]\n",
      "Epoch 11/200: 100%|██████████| 22/22 [00:00<00:00, 177.36it/s, loss=0.0385, measure=0.146]\n",
      "Epoch 12/200: 100%|██████████| 22/22 [00:00<00:00, 175.16it/s, loss=0.0154, measure=0.104]\n",
      "Epoch 13/200: 100%|██████████| 22/22 [00:00<00:00, 178.98it/s, loss=0.0502, measure=0.152]\n",
      "Epoch 14/200: 100%|██████████| 22/22 [00:00<00:00, 160.94it/s, loss=0.0473, measure=0.158]\n",
      "Epoch 15/200: 100%|██████████| 22/22 [00:00<00:00, 169.57it/s, loss=0.03, measure=0.129]\n",
      "Epoch 16/200: 100%|██████████| 22/22 [00:00<00:00, 174.65it/s, loss=0.0444, measure=0.16]\n",
      "Epoch 17/200: 100%|██████████| 22/22 [00:00<00:00, 170.09it/s, loss=0.0493, measure=0.153]\n",
      "Epoch 18/200: 100%|██████████| 22/22 [00:00<00:00, 168.07it/s, loss=0.0189, measure=0.11]\n",
      "Epoch 19/200: 100%|██████████| 22/22 [00:00<00:00, 146.17it/s, loss=0.0232, measure=0.117]\n",
      "Epoch 20/200: 100%|██████████| 22/22 [00:00<00:00, 156.49it/s, loss=0.0176, measure=0.108]\n",
      "Epoch 21/200: 100%|██████████| 22/22 [00:00<00:00, 158.17it/s, loss=0.0493, measure=0.158]\n",
      "Epoch 22/200: 100%|██████████| 22/22 [00:00<00:00, 151.18it/s, loss=0.0198, measure=0.103]\n",
      "Epoch 23/200: 100%|██████████| 22/22 [00:00<00:00, 153.49it/s, loss=0.022, measure=0.112]\n",
      "Epoch 24/200: 100%|██████████| 22/22 [00:00<00:00, 150.14it/s, loss=0.0377, measure=0.131]\n",
      "Epoch 25/200: 100%|██████████| 22/22 [00:00<00:00, 152.92it/s, loss=0.0433, measure=0.135]\n",
      "Epoch 26/200: 100%|██████████| 22/22 [00:00<00:00, 147.37it/s, loss=0.0513, measure=0.148]\n",
      "Epoch 27/200: 100%|██████████| 22/22 [00:00<00:00, 149.13it/s, loss=0.0475, measure=0.15]\n",
      "Epoch 28/200: 100%|██████████| 22/22 [00:00<00:00, 158.17it/s, loss=0.0156, measure=0.0992]\n",
      "Epoch 29/200: 100%|██████████| 22/22 [00:00<00:00, 139.10it/s, loss=0.0453, measure=0.148]\n",
      "Epoch 30/200: 100%|██████████| 22/22 [00:00<00:00, 155.04it/s, loss=0.0355, measure=0.146]\n",
      "Epoch 31/200: 100%|██████████| 22/22 [00:00<00:00, 169.29it/s, loss=0.0377, measure=0.139]\n",
      "Epoch 32/200: 100%|██████████| 22/22 [00:00<00:00, 165.94it/s, loss=0.0128, measure=0.0885]\n",
      "Epoch 33/200: 100%|██████████| 22/22 [00:00<00:00, 169.04it/s, loss=0.00782, measure=0.0703]\n",
      "Epoch 34/200: 100%|██████████| 22/22 [00:00<00:00, 127.55it/s, loss=0.0311, measure=0.125]\n",
      "Epoch 35/200: 100%|██████████| 22/22 [00:00<00:00, 120.60it/s, loss=0.0277, measure=0.122]\n",
      "Epoch 36/200: 100%|██████████| 22/22 [00:00<00:00, 144.37it/s, loss=0.0185, measure=0.104]\n",
      "Epoch 37/200: 100%|██████████| 22/22 [00:00<00:00, 156.53it/s, loss=0.0133, measure=0.0975]\n",
      "Epoch 38/200: 100%|██████████| 22/22 [00:00<00:00, 162.60it/s, loss=0.0146, measure=0.102]\n",
      "Epoch 39/200: 100%|██████████| 22/22 [00:00<00:00, 180.12it/s, loss=0.0285, measure=0.116]\n",
      "Epoch 40/200: 100%|██████████| 22/22 [00:00<00:00, 177.96it/s, loss=0.0587, measure=0.157]\n",
      "Epoch 41/200: 100%|██████████| 22/22 [00:00<00:00, 160.16it/s, loss=0.0174, measure=0.114]\n",
      "Epoch 42/200: 100%|██████████| 22/22 [00:00<00:00, 149.09it/s, loss=0.0141, measure=0.106]\n",
      "Epoch 43/200: 100%|██████████| 22/22 [00:00<00:00, 168.28it/s, loss=0.0295, measure=0.142]\n",
      "Epoch 44/200: 100%|██████████| 22/22 [00:00<00:00, 159.93it/s, loss=0.0286, measure=0.113]\n",
      "Epoch 45/200: 100%|██████████| 22/22 [00:00<00:00, 168.43it/s, loss=0.0197, measure=0.106]\n",
      "Epoch 46/200: 100%|██████████| 22/22 [00:00<00:00, 163.69it/s, loss=0.0525, measure=0.158]\n",
      "Epoch 47/200: 100%|██████████| 22/22 [00:00<00:00, 146.17it/s, loss=0.00848, measure=0.0757]\n",
      "Epoch 48/200: 100%|██████████| 22/22 [00:00<00:00, 176.21it/s, loss=0.0365, measure=0.14]\n",
      "Epoch 49/200: 100%|██████████| 22/22 [00:00<00:00, 140.58it/s, loss=0.0127, measure=0.0883]\n",
      "Epoch 50/200: 100%|██████████| 22/22 [00:00<00:00, 137.09it/s, loss=0.0206, measure=0.114]\n",
      "Epoch 51/200: 100%|██████████| 22/22 [00:00<00:00, 135.41it/s, loss=0.024, measure=0.111]\n",
      "Epoch 52/200: 100%|██████████| 22/22 [00:00<00:00, 134.58it/s, loss=0.0142, measure=0.0877]\n",
      "Epoch 53/200: 100%|██████████| 22/22 [00:00<00:00, 132.16it/s, loss=0.0313, measure=0.121]\n",
      "Epoch 54/200: 100%|██████████| 22/22 [00:00<00:00, 136.20it/s, loss=0.0265, measure=0.106]\n",
      "Epoch 55/200: 100%|██████████| 22/22 [00:00<00:00, 141.44it/s, loss=0.0552, measure=0.159]\n",
      "Epoch 56/200: 100%|██████████| 22/22 [00:00<00:00, 132.98it/s, loss=0.05, measure=0.16]\n",
      "Epoch 57/200: 100%|██████████| 22/22 [00:00<00:00, 146.16it/s, loss=0.0312, measure=0.121]\n",
      "Epoch 58/200: 100%|██████████| 22/22 [00:00<00:00, 142.40it/s, loss=0.021, measure=0.0945]\n",
      "Epoch 59/200: 100%|██████████| 22/22 [00:00<00:00, 134.58it/s, loss=0.0177, measure=0.0958]\n",
      "Epoch 60/200: 100%|██████████| 22/22 [00:00<00:00, 128.09it/s, loss=0.0166, measure=0.0835]\n",
      "Epoch 61/200: 100%|██████████| 22/22 [00:00<00:00, 131.37it/s, loss=0.0224, measure=0.117]\n",
      "Epoch 62/200: 100%|██████████| 22/22 [00:00<00:00, 119.30it/s, loss=0.0155, measure=0.0963]\n",
      "Epoch 63/200: 100%|██████████| 22/22 [00:00<00:00, 127.54it/s, loss=0.0118, measure=0.0821]\n",
      "Epoch 64/200: 100%|██████████| 22/22 [00:00<00:00, 143.32it/s, loss=0.039, measure=0.125]\n",
      "Epoch 65/200: 100%|██████████| 22/22 [00:00<00:00, 132.95it/s, loss=0.0366, measure=0.134]\n",
      "Epoch 66/200: 100%|██████████| 22/22 [00:00<00:00, 135.31it/s, loss=0.0122, measure=0.0878]\n",
      "Epoch 67/200: 100%|██████████| 22/22 [00:00<00:00, 149.13it/s, loss=0.0361, measure=0.129]\n",
      "Epoch 68/200: 100%|██████████| 22/22 [00:00<00:00, 154.37it/s, loss=0.0315, measure=0.111]\n",
      "Epoch 69/200: 100%|██████████| 22/22 [00:00<00:00, 147.11it/s, loss=0.0151, measure=0.0954]\n",
      "Epoch 70/200: 100%|██████████| 22/22 [00:00<00:00, 144.25it/s, loss=0.0155, measure=0.101]\n",
      "Epoch 71/200: 100%|██████████| 22/22 [00:00<00:00, 143.04it/s, loss=0.0306, measure=0.125]\n",
      "Epoch 72/200: 100%|██████████| 22/22 [00:00<00:00, 154.34it/s, loss=0.032, measure=0.121]\n",
      "Epoch 73/200: 100%|██████████| 22/22 [00:00<00:00, 140.58it/s, loss=0.0186, measure=0.101]\n",
      "Epoch 74/200: 100%|██████████| 22/22 [00:00<00:00, 143.32it/s, loss=0.017, measure=0.102]\n",
      "Epoch 75/200: 100%|██████████| 22/22 [00:00<00:00, 151.28it/s, loss=0.0229, measure=0.114]\n",
      "Epoch 76/200: 100%|██████████| 22/22 [00:00<00:00, 147.14it/s, loss=0.0216, measure=0.0997]\n",
      "Epoch 77/200: 100%|██████████| 22/22 [00:00<00:00, 138.75it/s, loss=0.0139, measure=0.0837]\n",
      "Epoch 78/200: 100%|██████████| 22/22 [00:00<00:00, 145.18it/s, loss=0.0136, measure=0.0931]\n",
      "Epoch 79/200: 100%|██████████| 22/22 [00:00<00:00, 164.66it/s, loss=0.0284, measure=0.114]\n",
      "Epoch 80/200: 100%|██████████| 22/22 [00:00<00:00, 131.36it/s, loss=0.0152, measure=0.0985]\n",
      "Epoch 81/200: 100%|██████████| 22/22 [00:00<00:00, 148.12it/s, loss=0.0294, measure=0.121]\n",
      "Epoch 82/200: 100%|██████████| 22/22 [00:00<00:00, 150.14it/s, loss=0.021, measure=0.104]\n",
      "Epoch 83/200: 100%|██████████| 22/22 [00:00<00:00, 153.69it/s, loss=0.0186, measure=0.082]\n",
      "Epoch 84/200: 100%|██████████| 22/22 [00:00<00:00, 113.24it/s, loss=0.018, measure=0.0978]\n",
      "Epoch 85/200: 100%|██████████| 22/22 [00:00<00:00, 138.48it/s, loss=0.00654, measure=0.0606]\n",
      "Epoch 86/200: 100%|██████████| 22/22 [00:00<00:00, 151.60it/s, loss=0.0206, measure=0.107]\n",
      "Epoch 87/200: 100%|██████████| 22/22 [00:00<00:00, 157.65it/s, loss=0.0131, measure=0.0706]\n",
      "Epoch 88/200: 100%|██████████| 22/22 [00:00<00:00, 147.71it/s, loss=0.00902, measure=0.08]\n",
      "Epoch 89/200: 100%|██████████| 22/22 [00:00<00:00, 148.12it/s, loss=0.02, measure=0.106]\n",
      "Epoch 90/200: 100%|██████████| 22/22 [00:00<00:00, 161.10it/s, loss=0.0185, measure=0.103]\n",
      "Epoch 91/200: 100%|██████████| 22/22 [00:00<00:00, 157.65it/s, loss=0.0214, measure=0.109]\n",
      "Epoch 92/200: 100%|██████████| 22/22 [00:00<00:00, 154.47it/s, loss=0.0223, measure=0.108]\n",
      "Epoch 93/200: 100%|██████████| 22/22 [00:00<00:00, 138.81it/s, loss=0.0226, measure=0.112]\n",
      "Epoch 94/200: 100%|██████████| 22/22 [00:00<00:00, 152.15it/s, loss=0.0152, measure=0.0886]\n",
      "Epoch 95/200: 100%|██████████| 22/22 [00:00<00:00, 146.08it/s, loss=0.0178, measure=0.0823]\n",
      "Epoch 96/200: 100%|██████████| 22/22 [00:00<00:00, 150.14it/s, loss=0.00931, measure=0.0788]\n",
      "Epoch 97/200: 100%|██████████| 22/22 [00:00<00:00, 144.26it/s, loss=0.0144, measure=0.0887]\n",
      "Epoch 98/200: 100%|██████████| 22/22 [00:00<00:00, 149.68it/s, loss=0.00743, measure=0.0664]\n",
      "Epoch 99/200: 100%|██████████| 22/22 [00:00<00:00, 158.78it/s, loss=0.00676, measure=0.0668]\n",
      "Epoch 100/200: 100%|██████████| 22/22 [00:00<00:00, 155.57it/s, loss=0.0167, measure=0.0946]\n",
      "Epoch 101/200: 100%|██████████| 22/22 [00:00<00:00, 143.92it/s, loss=0.0307, measure=0.135]\n",
      "Epoch 102/200: 100%|██████████| 22/22 [00:00<00:00, 150.14it/s, loss=0.0215, measure=0.107]\n",
      "Epoch 103/200: 100%|██████████| 22/22 [00:00<00:00, 159.93it/s, loss=0.0197, measure=0.0973]\n",
      "Epoch 104/200: 100%|██████████| 22/22 [00:00<00:00, 152.68it/s, loss=0.022, measure=0.119]\n",
      "Epoch 105/200: 100%|██████████| 22/22 [00:00<00:00, 144.24it/s, loss=0.0171, measure=0.095]\n",
      "Epoch 106/200: 100%|██████████| 22/22 [00:00<00:00, 158.78it/s, loss=0.00863, measure=0.0695]\n",
      "Epoch 107/200: 100%|██████████| 22/22 [00:00<00:00, 144.13it/s, loss=0.0128, measure=0.0835]\n",
      "Epoch 108/200: 100%|██████████| 22/22 [00:00<00:00, 139.69it/s, loss=0.0198, measure=0.0976]\n",
      "Epoch 109/200: 100%|██████████| 22/22 [00:00<00:00, 139.66it/s, loss=0.0156, measure=0.102]\n",
      "Epoch 110/200: 100%|██████████| 22/22 [00:00<00:00, 156.53it/s, loss=0.0134, measure=0.0874]\n",
      "Epoch 111/200: 100%|██████████| 22/22 [00:00<00:00, 158.73it/s, loss=0.0197, measure=0.0888]\n",
      "Epoch 112/200: 100%|██████████| 22/22 [00:00<00:00, 163.49it/s, loss=0.0133, measure=0.086]\n",
      "Epoch 113/200: 100%|██████████| 22/22 [00:00<00:00, 148.12it/s, loss=0.0128, measure=0.0863]\n",
      "Epoch 114/200: 100%|██████████| 22/22 [00:00<00:00, 157.69it/s, loss=0.0309, measure=0.127]\n",
      "Epoch 115/200: 100%|██████████| 22/22 [00:00<00:00, 155.43it/s, loss=0.00845, measure=0.0682]\n",
      "Epoch 116/200: 100%|██████████| 22/22 [00:00<00:00, 158.78it/s, loss=0.0136, measure=0.0876]\n",
      "Epoch 117/200: 100%|██████████| 22/22 [00:00<00:00, 150.14it/s, loss=0.0308, measure=0.133]\n",
      "Epoch 118/200: 100%|██████████| 22/22 [00:00<00:00, 134.58it/s, loss=0.014, measure=0.0777]\n",
      "Epoch 119/200: 100%|██████████| 22/22 [00:00<00:00, 163.49it/s, loss=0.0169, measure=0.0969]\n",
      "Epoch 120/200: 100%|██████████| 22/22 [00:00<00:00, 157.47it/s, loss=0.016, measure=0.0825]\n",
      "Epoch 121/200: 100%|██████████| 22/22 [00:00<00:00, 152.22it/s, loss=0.0185, measure=0.11]\n",
      "Epoch 122/200: 100%|██████████| 22/22 [00:00<00:00, 161.10it/s, loss=0.00958, measure=0.0831]\n",
      "Epoch 123/200: 100%|██████████| 22/22 [00:00<00:00, 163.44it/s, loss=0.0096, measure=0.0794]\n",
      "Epoch 124/200: 100%|██████████| 22/22 [00:00<00:00, 157.65it/s, loss=0.0296, measure=0.0957]\n",
      "Epoch 125/200: 100%|██████████| 22/22 [00:00<00:00, 145.20it/s, loss=0.00858, measure=0.0728]\n",
      "Epoch 126/200: 100%|██████████| 22/22 [00:00<00:00, 153.27it/s, loss=0.0344, measure=0.136]\n",
      "Epoch 127/200: 100%|██████████| 22/22 [00:00<00:00, 160.91it/s, loss=0.0258, measure=0.0839]\n",
      "Epoch 128/200: 100%|██████████| 22/22 [00:00<00:00, 160.63it/s, loss=0.0116, measure=0.0842]\n",
      "Epoch 129/200: 100%|██████████| 22/22 [00:00<00:00, 131.40it/s, loss=0.0157, measure=0.0945]\n",
      "Epoch 130/200: 100%|██████████| 22/22 [00:00<00:00, 155.44it/s, loss=0.0134, measure=0.0954]\n",
      "Epoch 131/200: 100%|██████████| 22/22 [00:00<00:00, 161.10it/s, loss=0.0383, measure=0.135]\n",
      "Epoch 132/200: 100%|██████████| 22/22 [00:00<00:00, 161.10it/s, loss=0.0298, measure=0.111]\n",
      "Epoch 133/200: 100%|██████████| 22/22 [00:00<00:00, 145.60it/s, loss=0.00734, measure=0.0601]\n",
      "Epoch 134/200: 100%|██████████| 22/22 [00:00<00:00, 164.01it/s, loss=0.0112, measure=0.0885]\n",
      "Epoch 135/200: 100%|██████████| 22/22 [00:00<00:00, 149.16it/s, loss=0.0326, measure=0.137]\n",
      "Epoch 136/200: 100%|██████████| 22/22 [00:00<00:00, 139.69it/s, loss=0.00891, measure=0.0674]\n",
      "Epoch 137/200: 100%|██████████| 22/22 [00:00<00:00, 139.69it/s, loss=0.0115, measure=0.0782]\n",
      "Epoch 138/200: 100%|██████████| 22/22 [00:00<00:00, 153.27it/s, loss=0.0129, measure=0.0809]\n",
      "Epoch 139/200: 100%|██████████| 22/22 [00:00<00:00, 159.93it/s, loss=0.00622, measure=0.0581]\n",
      "Epoch 140/200: 100%|██████████| 22/22 [00:00<00:00, 157.01it/s, loss=0.00982, measure=0.0856]\n",
      "Epoch 141/200: 100%|██████████| 22/22 [00:00<00:00, 155.84it/s, loss=0.0119, measure=0.0811]\n",
      "Epoch 142/200: 100%|██████████| 22/22 [00:00<00:00, 166.30it/s, loss=0.03, measure=0.116]\n",
      "Epoch 143/200: 100%|██████████| 22/22 [00:00<00:00, 163.21it/s, loss=0.0145, measure=0.0789]\n",
      "Epoch 144/200: 100%|██████████| 22/22 [00:00<00:00, 153.87it/s, loss=0.00602, measure=0.0621]\n",
      "Epoch 145/200: 100%|██████████| 22/22 [00:00<00:00, 143.31it/s, loss=0.0108, measure=0.088]\n",
      "Epoch 146/200: 100%|██████████| 22/22 [00:00<00:00, 163.49it/s, loss=0.0172, measure=0.0953]\n",
      "Epoch 147/200: 100%|██████████| 22/22 [00:00<00:00, 163.71it/s, loss=0.0171, measure=0.0988]\n",
      "Epoch 148/200: 100%|██████████| 22/22 [00:00<00:00, 150.63it/s, loss=0.0277, measure=0.101]\n",
      "Epoch 149/200: 100%|██████████| 22/22 [00:00<00:00, 157.65it/s, loss=0.00913, measure=0.073]\n",
      "Epoch 150/200: 100%|██████████| 22/22 [00:00<00:00, 161.24it/s, loss=0.00726, measure=0.0643]\n",
      "Epoch 151/200: 100%|██████████| 22/22 [00:00<00:00, 159.93it/s, loss=0.0333, measure=0.105]\n",
      "Epoch 152/200: 100%|██████████| 22/22 [00:00<00:00, 149.49it/s, loss=0.0136, measure=0.0846]\n",
      "Epoch 153/200: 100%|██████████| 22/22 [00:00<00:00, 154.34it/s, loss=0.00901, measure=0.0734]\n",
      "Epoch 154/200: 100%|██████████| 22/22 [00:00<00:00, 161.58it/s, loss=0.0118, measure=0.0861]\n",
      "Epoch 155/200: 100%|██████████| 22/22 [00:00<00:00, 160.38it/s, loss=0.0194, measure=0.105]\n",
      "Epoch 156/200: 100%|██████████| 22/22 [00:00<00:00, 149.12it/s, loss=0.0146, measure=0.0882]\n",
      "Epoch 157/200: 100%|██████████| 22/22 [00:00<00:00, 149.12it/s, loss=0.00885, measure=0.0667]\n",
      "Epoch 158/200: 100%|██████████| 22/22 [00:00<00:00, 161.39it/s, loss=0.0277, measure=0.111]\n",
      "Epoch 159/200: 100%|██████████| 22/22 [00:00<00:00, 159.93it/s, loss=0.00844, measure=0.0601]\n",
      "Epoch 160/200: 100%|██████████| 22/22 [00:00<00:00, 154.04it/s, loss=0.0124, measure=0.0784]\n",
      "Epoch 161/200: 100%|██████████| 22/22 [00:00<00:00, 147.55it/s, loss=0.0109, measure=0.0783]\n",
      "Epoch 162/200: 100%|██████████| 22/22 [00:00<00:00, 148.55it/s, loss=0.0123, measure=0.0898]\n",
      "Epoch 163/200: 100%|██████████| 22/22 [00:00<00:00, 162.28it/s, loss=0.0136, measure=0.0987]\n",
      "Epoch 164/200: 100%|██████████| 22/22 [00:00<00:00, 150.14it/s, loss=0.0419, measure=0.14]\n",
      "Epoch 165/200: 100%|██████████| 22/22 [00:00<00:00, 128.32it/s, loss=0.0295, measure=0.0961]\n",
      "Epoch 166/200: 100%|██████████| 22/22 [00:00<00:00, 150.14it/s, loss=0.0131, measure=0.0926]\n",
      "Epoch 167/200: 100%|██████████| 22/22 [00:00<00:00, 142.39it/s, loss=0.00783, measure=0.0709]\n",
      "Epoch 168/200: 100%|██████████| 22/22 [00:00<00:00, 154.53it/s, loss=0.0144, measure=0.0853]\n",
      "Epoch 169/200: 100%|██████████| 22/22 [00:00<00:00, 150.14it/s, loss=0.0169, measure=0.0929]\n",
      "Epoch 170/200: 100%|██████████| 22/22 [00:00<00:00, 157.65it/s, loss=0.018, measure=0.0904]\n",
      "Epoch 171/200: 100%|██████████| 22/22 [00:00<00:00, 158.78it/s, loss=0.0165, measure=0.0949]\n",
      "Epoch 172/200: 100%|██████████| 22/22 [00:00<00:00, 155.44it/s, loss=0.0128, measure=0.0832]\n",
      "Epoch 173/200: 100%|██████████| 22/22 [00:00<00:00, 136.24it/s, loss=0.0131, measure=0.0705]\n",
      "Epoch 174/200: 100%|██████████| 22/22 [00:00<00:00, 153.27it/s, loss=0.0153, measure=0.0891]\n",
      "Epoch 175/200: 100%|██████████| 22/22 [00:00<00:00, 162.03it/s, loss=0.00532, measure=0.06]\n",
      "Epoch 176/200: 100%|██████████| 22/22 [00:00<00:00, 158.23it/s, loss=0.0132, measure=0.0746]\n",
      "Epoch 177/200: 100%|██████████| 22/22 [00:00<00:00, 145.20it/s, loss=0.0207, measure=0.106]\n",
      "Epoch 178/200: 100%|██████████| 22/22 [00:00<00:00, 158.78it/s, loss=0.0164, measure=0.0886]\n",
      "Epoch 179/200: 100%|██████████| 22/22 [00:00<00:00, 157.65it/s, loss=0.0134, measure=0.0802]\n",
      "Epoch 180/200: 100%|██████████| 22/22 [00:00<00:00, 159.34it/s, loss=0.0107, measure=0.0794]\n",
      "Epoch 181/200: 100%|██████████| 22/22 [00:00<00:00, 150.10it/s, loss=0.00785, measure=0.0676]\n",
      "Epoch 182/200: 100%|██████████| 22/22 [00:00<00:00, 159.13it/s, loss=0.0278, measure=0.113]\n",
      "Epoch 183/200: 100%|██████████| 22/22 [00:00<00:00, 134.57it/s, loss=0.00943, measure=0.0715]\n",
      "Epoch 184/200: 100%|██████████| 22/22 [00:00<00:00, 144.26it/s, loss=0.0142, measure=0.0885]\n",
      "Epoch 185/200: 100%|██████████| 22/22 [00:00<00:00, 149.12it/s, loss=0.0107, measure=0.0825]\n",
      "Epoch 186/200: 100%|██████████| 22/22 [00:00<00:00, 157.65it/s, loss=0.0179, measure=0.0947]\n",
      "Epoch 187/200: 100%|██████████| 22/22 [00:00<00:00, 155.42it/s, loss=0.0086, measure=0.0729]\n",
      "Epoch 188/200: 100%|██████████| 22/22 [00:00<00:00, 154.34it/s, loss=0.0305, measure=0.0983]\n",
      "Epoch 189/200: 100%|██████████| 22/22 [00:00<00:00, 146.96it/s, loss=0.0136, measure=0.0855]\n",
      "Epoch 190/200: 100%|██████████| 22/22 [00:00<00:00, 159.92it/s, loss=0.0126, measure=0.0866]\n",
      "Epoch 191/200: 100%|██████████| 22/22 [00:00<00:00, 163.49it/s, loss=0.0112, measure=0.0841]\n",
      "Epoch 192/200: 100%|██████████| 22/22 [00:00<00:00, 151.16it/s, loss=0.00909, measure=0.0738]\n",
      "Epoch 193/200: 100%|██████████| 22/22 [00:00<00:00, 152.23it/s, loss=0.029, measure=0.117]\n",
      "Epoch 194/200: 100%|██████████| 22/22 [00:00<00:00, 156.53it/s, loss=0.0154, measure=0.094]\n",
      "Epoch 195/200: 100%|██████████| 22/22 [00:00<00:00, 161.01it/s, loss=0.0585, measure=0.134]\n",
      "Epoch 196/200: 100%|██████████| 22/22 [00:00<00:00, 150.56it/s, loss=0.0356, measure=0.107]\n",
      "Epoch 197/200: 100%|██████████| 22/22 [00:00<00:00, 122.61it/s, loss=0.0202, measure=0.1]\n",
      "Epoch 198/200: 100%|██████████| 22/22 [00:00<00:00, 140.58it/s, loss=0.00697, measure=0.0739]\n",
      "Epoch 199/200: 100%|██████████| 22/22 [00:00<00:00, 151.17it/s, loss=0.0285, measure=0.111]\n",
      "Epoch 200/200: 100%|██████████| 22/22 [00:00<00:00, 134.58it/s, loss=0.024, measure=0.113]"
     ]
    },
    {
     "name": "stdout",
     "output_type": "stream",
     "text": [
      "Done!\n"
     ]
    },
    {
     "name": "stderr",
     "output_type": "stream",
     "text": [
      "\n"
     ]
    }
   ],
   "source": [
    "loss_fn = nn.MSELoss()\n",
    "measure_fn = nn.L1Loss() # MAE\n",
    "optimizer = torch.optim.Adam(model.parameters())\n",
    "\n",
    "results = train(train_dataloader, model, loss_fn, measure_fn, optimizer, 200)\n",
    "print(\"Done!\")"
   ]
  },
  {
   "cell_type": "markdown",
   "metadata": {},
   "source": []
  },
  {
   "cell_type": "code",
   "execution_count": 99,
   "id": "2ffb3f43-4d8f-4024-8698-4c537739acc5",
   "metadata": {},
   "outputs": [
    {
     "data": {
      "image/png": "[encoded data removed]",
      "text/plain": [
       "<Figure size 432x288 with 2 Axes>"
      ]
     },
     "metadata": {
      "needs_background": "light"
     },
     "output_type": "display_data"
    }
   ],
   "source": [
    "results_data = pd.DataFrame(results).rolling(window=32).mean()\n",
    "results_data.columns = ['loss', 'measure']\n",
    "ax = results_data.plot(subplots=True);"
   ]
  },
  {
   "cell_type": "code",
   "execution_count": 100,
   "id": "452365b1-e9a3-41bf-bad2-515545cb9414",
   "metadata": {},
   "outputs": [
    {
     "name": "stdout",
     "output_type": "stream",
     "text": [
      "MAE: [[11.72235532]]\n",
      "Data mean: 16.164402459407828\n",
      "Data MAE for prediction simply the mean: 14.65345254227676\n"
     ]
    }
   ],
   "source": [
    "print(\"MAE: \" + str(scaler_y.inverse_transform(np.asarray(results[len(results)-1][1]).reshape(-1, 1))))\n",
    "\n",
    "data_mean = durations.mean()\n",
    "print(\"Data mean: \" + str(data_mean))\n",
    "print(\"Data MAE for prediction simply the mean: \" + str((np.absolute(durations - data_mean).mean())))"
   ]
  },
  {
   "cell_type": "markdown",
   "metadata": {},
   "source": []
  },
  {
   "cell_type": "markdown",
   "metadata": {},
   "source": [
    "Now, extend this example with other encodings and a proper (!) evaluation for sequential event log data!"
   ]
  }
 ],
 "metadata": {
  "kernelspec": {
   "display_name": "Python 3",
   "language": "python",
   "name": "python3"
  },
  "language_info": {
   "codemirror_mode": {
    "name": "ipython",
    "version": 3
   },
   "file_extension": ".py",
   "mimetype": "text/x-python",
   "name": "python",
   "nbconvert_exporter": "python",
   "pygments_lexer": "ipython3",
   "version": "3.9.4"
  }
 },
 "nbformat": 4,
 "nbformat_minor": 4
}
