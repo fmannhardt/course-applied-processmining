{
 "cells": [
  {
   "cell_type": "markdown",
   "metadata": {},
   "source": [
    "# Applied Process Mining Module\n",
    "\n",
    "This notebook is part of an Applied Process Mining module. The collection of notebooks is a *living document* and subject to change. \n",
    "\n",
    "# Assignment - BPI Challenge 2020"
   ]
  },
  {
   "cell_type": "markdown",
   "metadata": {},
   "source": [
    "## Setup\n",
    "\n",
    "<img src=\"https://pm4py.fit.fraunhofer.de/static/assets/images/pm4py-site-logo-padded.png\" alt=\"PM4Py\" style=\"width: 200px;\"/>\n",
    "\n",
    "In this notebook, we are using the [PM4Py library](https://pm4py.fit.fraunhofer.de/) in combination with several standard Python data science libraries:\n",
    "\n",
    "* [pandas](https://pandas.pydata.org/)\n",
    "* [plotnine](https://plotnine.readthedocs.io/en/stable/)"
   ]
  },
  {
   "cell_type": "code",
   "execution_count": 1,
   "metadata": {},
   "outputs": [],
   "source": [
    "## Perform the commented out commands to install the dependencies\n",
    "# %pip install pandas\n",
    "# %pip install matplotlib\n",
    "# %pip install pm4py"
   ]
  },
  {
   "cell_type": "code",
   "execution_count": 2,
   "metadata": {},
   "outputs": [],
   "source": [
    "import pandas as pd\n",
    "import pm4py\n",
    "import plotnine\n",
    "from plotnine import ggplot, geom_point, aes, theme_bw, coord_flip, scale_y_discrete, theme, element_text, geom_bin2d"
   ]
  },
  {
   "cell_type": "markdown",
   "metadata": {},
   "source": [
    "You may use this notebook to conduct the analysis."
   ]
  },
  {
   "cell_type": "markdown",
   "metadata": {},
   "source": [
    "## Dataset"
   ]
  },
  {
   "cell_type": "markdown",
   "metadata": {},
   "source": [
    "The proposed real-life dataset to investigate is the *BPI Challenge 2020* dataset. The dataset is captured from the travel reimbursment process of Eindhoven University of Technolog and has been collected for usage in the BPI challenge. The BPI challenge is a yearly event in the Process Mining research community in which an event log is released along with some business questions that shall be addressed with process analytics techniques.\n",
    "\n",
    "Here is more informaation on the dataset and downloads links to the data files:\n",
    "\n",
    "* [Overview of the Case](https://icpmconference.org/2020/bpi-challenge/)\n",
    "* [Dataset](https://doi.org/10.4121/uuid:52fb97d4-4588-43c9-9d04-3604d4613b51)\n",
    "\n",
    "On the BPI Challenge 2020 website above, there are several reports (including the winners of the challenge) that describe and analyze the dataset in detail. However, we suggest that you first try to explore the dataset without reading the reports. The business questions and a description of the process flow can be also found at the BPI Challenge 2020 website. We repeat it here for convenience:\n",
    "\n",
    "### Process Flow\n",
    "\n",
    "The various declaration documents (domestic and international declarations, pre-paid travel costs and requests for payment) all follow a similar process flow. After submission by the employee, the request is sent for approval to the travel administration. If approved, the request is then forwarded to the budget owner and after that to the supervisor. If the budget owner and supervisor are the same person, then only one of the these steps it taken. In some cases, the director also needs to approve the request.\n",
    "\n",
    "In all cases, a rejection leads to one of two outcomes. Either the employee resubmits the request, or the employee also rejects the request.\n",
    "\n",
    "If the approval flow has a positive result, the payment is requested and made.\n",
    "\n",
    "The travel permits follow a slightly different flow as there is no payment involved. Instead, after all approval steps a trip can take place, indicated with an estimated start and end date. These dates are not exact travel dates, but rather estimated by the employee when the permit request is submitted. The actual travel dates are not recorded in the data, but should be close to the given dates in most cases.\n",
    "\n",
    "After the end of a trip, an employee receives several reminders to submit a travel declaration.\n",
    "\n",
    "After a travel permit is approved, but before the trip starts, employees can ask for a reimbursement of pre-paid travel costs. Several requests can be submitted independently of each other. After the trip ends, an international declaration can be submitted, although sometimes multiple declarations are seen for specific cases.\n",
    "\n",
    "It’s important to realize that the process described above is the process for 2018. For 2017, there are some differences as this was a pilot year and the process changed slightly on several occasions.\n",
    "\n",
    "### Business Questions\n",
    "\n",
    "The following questions are of interest:\n",
    "\n",
    "* What is the throughput of a travel declaration from submission (or closing) to paying?\n",
    "* Is there are difference in throughput between national and international trips?\n",
    "* Are there differences between clusters of declarations, for example between cost centers/departments/projects etc.?\n",
    "* What is the throughput in each of the process steps, i.e. the submission, judgement by various responsible roles and payment?\n",
    "* Where are the bottlenecks in the process of a travel declaration?\n",
    "* Where are the bottlenecks in the process of a travel permit (note that there can be mulitple requests for payment and declarations per permit)?\n",
    "* How many travel declarations get rejected in the various processing steps and how many are never approved?\n",
    "\n",
    "Then there are more detailed questions\n",
    "\n",
    "* How many travel declarations are booked on projects?\n",
    "* How many corrections have been made for declarations?\n",
    "* Are there any double payments?\n",
    "* Are there declarations that were not preceded properly by an approved travel permit? Or are there even declarations for which no permit exists?\n",
    "* How many travel declarations are submitted by the traveler and how many by a mandated person?\n",
    "* How many travel declarations are first rejected because they are submitted more than 2 months after the end of a trip and are then re-submitted?\n",
    "* Is this different between departments?\n",
    "* How many travel declarations are not approved by budget holders in time (7 days) and are then automatically rerouted to supervisors?\n",
    "* Next to travel declarations, there are also requests for payments. These are specific for non-TU/e employees. Are there any TU/e employees that submitted a request for payment instead of a travel declaration?\n",
    "\n",
    "Similar to the task at the BPI challenge, we are aware that not all questions can be answered on this dataset and we encourage you to come up with new and interesting insights."
   ]
  },
  {
   "cell_type": "markdown",
   "metadata": {},
   "source": [
    "## Data Loading"
   ]
  },
  {
   "cell_type": "markdown",
   "metadata": {},
   "source": [
    "To simplify the data loading task, here are the initial steps:"
   ]
  },
  {
   "cell_type": "code",
   "execution_count": 5,
   "metadata": {},
   "outputs": [],
   "source": [
    "import requests\n",
    "import shutil\n",
    "\n",
    "def download_file(url, local_filename):\n",
    "    with requests.get(url, stream=True) as r:\n",
    "        with open(local_filename, 'wb') as f:\n",
    "            shutil.copyfileobj(r.raw, f)\n",
    "\n",
    "    return local_filename\n",
    "\n",
    "rfp_data_file = download_file(\"https://data.4tu.nl/ndownloader/files/24061154\", \"../data/rfp.xes.gz\")\n",
    "ptc_data_file = download_file(\"https://data.4tu.nl/ndownloader/files/24043835\", \"../data/ptc.xes.gz\")\n",
    "int_decl_data_file = download_file(\"https://data.4tu.nl/ndownloader/files/24023492\", \"../data/int_decl.xes.gz\")\n",
    "dom_decl_data_file = download_file(\"https://data.4tu.nl/ndownloader/files/24031811\", \"../data/dom_decl.xes.gz\")"
   ]
  },
  {
   "cell_type": "markdown",
   "metadata": {},
   "source": [
    "Next we are going to load the XES file into memory using PM4Py."
   ]
  },
  {
   "cell_type": "code",
   "execution_count": 7,
   "metadata": {},
   "outputs": [
    {
     "name": "stderr",
     "output_type": "stream",
     "text": [
      "parsing log, completed traces :: 100%|██████████| 6886/6886 [00:01<00:00, 4149.54it/s]\n",
      "parsing log, completed traces :: 100%|██████████| 2099/2099 [00:00<00:00, 2363.58it/s]\n",
      "parsing log, completed traces :: 100%|██████████| 6449/6449 [00:03<00:00, 2102.28it/s]\n",
      "parsing log, completed traces :: 100%|██████████| 10500/10500 [00:02<00:00, 4410.17it/s]\n"
     ]
    }
   ],
   "source": [
    "import pm4py\n",
    "\n",
    "rfp_data = pm4py.read_xes(rfp_data_file)\n",
    "ptc_data = pm4py.read_xes(ptc_data_file)\n",
    "int_decl_data = pm4py.read_xes(int_decl_data_file)\n",
    "dom_decl_data = pm4py.read_xes(dom_decl_data_file)"
   ]
  }
 ],
 "metadata": {
  "kernelspec": {
   "display_name": "Python 3",
   "language": "python",
   "name": "python3"
  },
  "language_info": {
   "codemirror_mode": {
    "name": "ipython",
    "version": 3
   },
   "file_extension": ".py",
   "mimetype": "text/x-python",
   "name": "python",
   "nbconvert_exporter": "python",
   "pygments_lexer": "ipython3",
   "version": "3.9.4"
  }
 },
 "nbformat": 4,
 "nbformat_minor": 4
}
